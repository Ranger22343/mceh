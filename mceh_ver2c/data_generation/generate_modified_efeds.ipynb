{
 "cells": [
  {
   "cell_type": "code",
   "execution_count": 3,
   "metadata": {},
   "outputs": [
    {
     "name": "stdout",
     "output_type": "stream",
     "text": [
      "Call manual() to get the manual.\n"
     ]
    }
   ],
   "source": [
    "from astropy.io import fits\n",
    "from astropy import table\n",
    "import numpy as np\n",
    "from mceh_ver1 import find_luminosity as fl\n",
    "from mceh_ver1 import fitting\n",
    "from copy import deepcopy\n",
    "import astropy.units as u\n",
    "import astropy.cosmology.units as cu\n",
    "import astropy.coordinates as coordinates\n",
    "from matplotlib import pyplot as plt"
   ]
  },
  {
   "cell_type": "code",
   "execution_count": 4,
   "metadata": {},
   "outputs": [
    {
     "name": "stderr",
     "output_type": "stream",
     "text": [
      "WARNING: UnitsWarning: 'degree' did not parse as fits unit: At col 0, Unit 'degree' not supported by the FITS standard.  If this is meant to be a custom unit, define it with 'u.def_unit'. To have it recognized inside a file reader or other code, enable it with 'u.add_enabled_units'. For details, see https://docs.astropy.org/en/latest/units/combining_and_defining.html [astropy.units.core]\n",
      "WARNING: UnitsWarning: 'erg /cm**2 /s' contains multiple slashes, which is discouraged by the FITS standard [astropy.units.format.generic]\n",
      "WARNING: UnitsWarning: 'M_sol/h 10^14' did not parse as fits unit: At col 0, Unit 'M_sol' not supported by the FITS standard.  If this is meant to be a custom unit, define it with 'u.def_unit'. To have it recognized inside a file reader or other code, enable it with 'u.add_enabled_units'. For details, see https://docs.astropy.org/en/latest/units/combining_and_defining.html [astropy.units.core]\n",
      "WARNING: UnitsWarning: 'Msun/h' did not parse as fits unit: At col 0, Unit 'Msun' not supported by the FITS standard. Did you mean Sun? If this is meant to be a custom unit, define it with 'u.def_unit'. To have it recognized inside a file reader or other code, enable it with 'u.add_enabled_units'. For details, see https://docs.astropy.org/en/latest/units/combining_and_defining.html [astropy.units.core]\n"
     ]
    }
   ],
   "source": [
    "efeds = table.QTable.read('data/eFEDS_clusters_V3.2.fits')\n",
    "efeds_ctp = table.QTable.read('data/eFEDS_c001_main_ctp_clus_v2.1.fits')\n",
    "masstable = table.QTable.read('data/eFEDSmasstable.fits')"
   ]
  },
  {
   "cell_type": "code",
   "execution_count": 5,
   "metadata": {},
   "outputs": [],
   "source": [
    "rd = fits.getdata('data/random_scienceFlag.fits', ext = -1)"
   ]
  },
  {
   "cell_type": "markdown",
   "metadata": {},
   "source": [
    "Input data"
   ]
  },
  {
   "cell_type": "code",
   "execution_count": 4,
   "metadata": {},
   "outputs": [],
   "source": [
    "new_efeds = table.QTable()\n",
    "new_efeds['ID'] = efeds['ID']\n",
    "new_efeds['ID_SRC'] = efeds['ID_SRC']\n",
    "new_efeds['RA'] = efeds['RA'].value * u.degree\n",
    "new_efeds['DEC'] = efeds['DEC'].value * u.degree\n",
    "new_efeds['z'] = efeds['z']"
   ]
  },
  {
   "cell_type": "code",
   "execution_count": 5,
   "metadata": {},
   "outputs": [
    {
     "name": "stdout",
     "output_type": "stream",
     "text": [
      "[541, 463, 230, 198, 379, 511, 358, 185, 429, 273, 423, 461, 133, 180, 211, 260, 130, 174, 354, 394, 451, 518, 335, 140, 309, 128, 333, 145, 204, 312, 221, 60, 155, 489, 386, 220, 432, 186, 68, 153, 486, 285, 9, 523, 452, 226, 252, 310, 124, 217, 257, 532, 455, 148, 1, 302, 303, 187, 385, 357, 374, 94, 295, 159, 41, 355, 255, 366, 514, 484, 450, 177, 517, 339, 20, 141, 364, 138, 349, 157, 350, 234, 129, 444, 119, 267, 308, 259, 276, 13, 288, 382, 365, 362, 293, 100, 207, 280, 378, 427, 411, 323, 271, 361, 86, 212, 390, 527, 136, 147, 178, 319, 298, 340, 160, 376, 158, 240, 139, 236, 338, 126, 205, 460, 161, 422, 492, 534, 531, 163, 95, 168, 238, 471, 278, 92, 213, 228, 84, 6, 56, 114, 175, 287, 537, 424, 249, 538, 502, 146, 435, 304, 327, 459, 179, 430, 453, 242, 227, 225, 123, 58, 443, 371, 425, 508, 540, 117, 392, 261, 317, 396, 55, 299, 398, 169, 112, 462, 353, 530, 46, 216, 351, 324, 18, 127, 232, 262, 286, 69, 325, 409, 292, 395, 412, 74, 64, 176, 380, 17, 258, 368, 110, 137, 332, 291, 535, 93, 270, 407, 401, 402, 406, 32, 522, 539, 279, 70, 536, 248, 149, 307, 373, 491, 4, 474, 192, 206, 403, 118, 40, 167, 135, 521, 26, 21, 337, 67, 218, 507, 375, 457, 65, 120, 87, 391, 428, 414, 51, 152, 477, 405, 341, 83, 61, 8, 199, 456, 516, 121, 154, 201, 107, 184, 25, 334, 433, 195, 264, 208, 277, 90, 111, 229, 215, 417, 408, 483, 284, 431, 499, 173, 490, 59, 142, 19, 172, 245, 415, 156, 466, 289, 441, 122, 389, 345, 290, 481, 418, 501, 313, 134, 494, 458, 224, 500, 109, 247, 421, 116, 344, 488, 320, 189, 467, 515, 520, 387, 76, 239, 125, 47, 106, 283, 36, 166, 495, 505, 399, 28, 10, 473, 256, 294, 513, 182, 265, 416, 367, 526, 35, 478, 71, 359, 63, 183, 33, 144, 426, 165, 266, 66, 524, 50, 269, 75, 97, 72, 24, 369, 222, 151, 301, 397, 497, 102, 113, 23, 305, 202, 503, 509, 510, 442, 482, 48, 434, 381, 29, 300, 512, 496, 388, 250, 470, 78, 440, 436, 104, 188, 438, 53, 533, 193, 480, 348, 268, 203, 98, 465, 196, 7, 476, 318, 251, 12, 528, 194, 281, 315, 329, 449, 101, 27, 529, 314, 3, 420, 42, 356, 197, 253, 22, 45, 190, 150, 80, 115, 254, 233, 410, 328, 297, 363, 231, 99, 468, 377, 16, 73, 393, 372, 342, 469, 243, 419, 326, 77, 31, 263, 52, 331, 383, 209, 108, 143, 170, 413, 5, 493, 336, 39, 445, 14, 103, 132, 164, 241, 343, 525, 447, 79, 504, 330, 498, 347, 38, 44, 200, 404, 446, 191, 272, 244, 439, 384, 81, 322, 34, 171, 370, 485, 105, 15, 30, 519, 360, 400, 54, 57, 96, 219, 472, 246, 89, 316, 43, 88, 352, 237, 454, 275, 487, 282, 506, 274, 321, 49, 85, 437, 346, 37, 11, 210, 2, 62, 479, 181, 131, 311, 91, 214, 235, 475, 306, 0, 296, 162, 448, 82, 223, 464]\n"
     ]
    }
   ],
   "source": [
    "ctp_index_to_main = [np.where(efeds_ctp['ID_SRC'] == efeds['ID_SRC'][i])[0][0] for i in range(len(efeds))]\n",
    "print(ctp_index_to_main)"
   ]
  },
  {
   "cell_type": "code",
   "execution_count": 6,
   "metadata": {},
   "outputs": [
    {
     "data": {
      "text/plain": [
       "True"
      ]
     },
     "execution_count": 6,
     "metadata": {},
     "output_type": "execute_result"
    }
   ],
   "source": [
    "(efeds_ctp['Name'] == masstable['Name']).all()"
   ]
  },
  {
   "cell_type": "code",
   "execution_count": 7,
   "metadata": {},
   "outputs": [
    {
     "data": {
      "text/plain": [
       "True"
      ]
     },
     "execution_count": 7,
     "metadata": {},
     "output_type": "execute_result"
    }
   ],
   "source": [
    "(new_efeds['ID_SRC'] == efeds_ctp['ID_SRC'][ctp_index_to_main]).all()"
   ]
  },
  {
   "cell_type": "code",
   "execution_count": 8,
   "metadata": {},
   "outputs": [
    {
     "data": {
      "text/latex": [
       "$\\mathrm{Msun/h}$"
      ],
      "text/plain": [
       "UnrecognizedUnit(Msun/h)"
      ]
     },
     "execution_count": 8,
     "metadata": {},
     "output_type": "execute_result"
    }
   ],
   "source": [
    "masstable['median_500c_lcdm'].unit"
   ]
  },
  {
   "cell_type": "code",
   "execution_count": 9,
   "metadata": {},
   "outputs": [],
   "source": [
    "new_efeds['median_500c_lcdm'] = masstable['median_500c_lcdm'][ctp_index_to_main].value * u.M_sun / cu.littleh\n",
    "new_efeds['r500c_lcdm'] = masstable['r500c_lcdm']"
   ]
  },
  {
   "cell_type": "markdown",
   "metadata": {},
   "source": [
    "Determine the no-masked area"
   ]
  },
  {
   "cell_type": "code",
   "execution_count": 33,
   "metadata": {},
   "outputs": [],
   "source": [
    "efeds_coord = coordinates.SkyCoord(new_efeds['RA'], new_efeds['DEC'])\n",
    "rd_coord = coordinates.SkyCoord(rd['RA'] * u.degree, rd['DEC'] * u.degree)"
   ]
  },
  {
   "cell_type": "code",
   "execution_count": 59,
   "metadata": {},
   "outputs": [],
   "source": [
    "clean_rd_coord = efeds_coord.search_around_sky(rd_coord, max(new_efeds['r500c_lcdm']) * 1.5)"
   ]
  },
  {
   "cell_type": "code",
   "execution_count": 67,
   "metadata": {},
   "outputs": [
    {
     "data": {
      "text/plain": [
       "array([      83,       83,       84, ..., 45483137, 45483139, 45483140])"
      ]
     },
     "execution_count": 67,
     "metadata": {},
     "output_type": "execute_result"
    }
   ],
   "source": [
    "clean_rd_coord[0]"
   ]
  },
  {
   "cell_type": "code",
   "execution_count": 69,
   "metadata": {},
   "outputs": [],
   "source": [
    "clean_rd = rd[np.unique(clean_rd_coord[0])]\n",
    "clean_rd_coord = coordinates.SkyCoord(clean_rd['RA'] * u.deg, clean_rd['DEC'] * u.deg)"
   ]
  },
  {
   "cell_type": "code",
   "execution_count": 72,
   "metadata": {},
   "outputs": [
    {
     "name": "stdout",
     "output_type": "stream",
     "text": [
      "finsih 1/542\n",
      "finsih 2/542\n",
      "finsih 3/542\n",
      "finsih 4/542\n",
      "finsih 5/542\n",
      "finsih 6/542\n",
      "finsih 7/542\n",
      "finsih 8/542\n",
      "finsih 9/542\n",
      "finsih 10/542\n",
      "finsih 11/542\n",
      "finsih 12/542\n",
      "finsih 13/542\n",
      "finsih 14/542\n",
      "finsih 15/542\n",
      "finsih 16/542\n",
      "finsih 17/542\n",
      "finsih 18/542\n",
      "finsih 19/542\n",
      "finsih 20/542\n",
      "finsih 21/542\n",
      "finsih 22/542\n",
      "finsih 23/542\n",
      "finsih 24/542\n",
      "finsih 25/542\n",
      "finsih 26/542\n",
      "finsih 27/542\n",
      "finsih 28/542\n",
      "finsih 29/542\n",
      "finsih 30/542\n",
      "finsih 31/542\n",
      "finsih 32/542\n",
      "finsih 33/542\n",
      "finsih 34/542\n",
      "finsih 35/542\n",
      "finsih 36/542\n",
      "finsih 37/542\n",
      "finsih 38/542\n",
      "finsih 39/542\n",
      "finsih 40/542\n",
      "finsih 41/542\n",
      "finsih 42/542\n",
      "finsih 43/542\n",
      "finsih 44/542\n",
      "finsih 45/542\n",
      "finsih 46/542\n",
      "finsih 47/542\n",
      "finsih 48/542\n",
      "finsih 49/542\n",
      "finsih 50/542\n",
      "finsih 51/542\n",
      "finsih 52/542\n",
      "finsih 53/542\n",
      "finsih 54/542\n",
      "finsih 55/542\n",
      "finsih 56/542\n",
      "finsih 57/542\n",
      "finsih 58/542\n",
      "finsih 59/542\n",
      "finsih 60/542\n",
      "finsih 61/542\n",
      "finsih 62/542\n",
      "finsih 63/542\n",
      "finsih 64/542\n",
      "finsih 65/542\n",
      "finsih 66/542\n",
      "finsih 67/542\n",
      "finsih 68/542\n",
      "finsih 69/542\n",
      "finsih 70/542\n",
      "finsih 71/542\n",
      "finsih 72/542\n",
      "finsih 73/542\n",
      "finsih 74/542\n",
      "finsih 75/542\n",
      "finsih 76/542\n",
      "finsih 77/542\n",
      "finsih 78/542\n",
      "finsih 79/542\n",
      "finsih 80/542\n",
      "finsih 81/542\n",
      "finsih 82/542\n",
      "finsih 83/542\n",
      "finsih 84/542\n",
      "finsih 85/542\n",
      "finsih 86/542\n",
      "finsih 87/542\n",
      "finsih 88/542\n",
      "finsih 89/542\n",
      "finsih 90/542\n",
      "finsih 91/542\n",
      "finsih 92/542\n",
      "finsih 93/542\n",
      "finsih 94/542\n",
      "finsih 95/542\n",
      "finsih 96/542\n",
      "finsih 97/542\n",
      "finsih 98/542\n",
      "finsih 99/542\n",
      "finsih 100/542\n",
      "finsih 101/542\n",
      "finsih 102/542\n",
      "finsih 103/542\n",
      "finsih 104/542\n",
      "finsih 105/542\n",
      "finsih 106/542\n",
      "finsih 107/542\n",
      "finsih 108/542\n",
      "finsih 109/542\n",
      "finsih 110/542\n",
      "finsih 111/542\n",
      "finsih 112/542\n",
      "finsih 113/542\n",
      "finsih 114/542\n",
      "finsih 115/542\n",
      "finsih 116/542\n",
      "finsih 117/542\n",
      "finsih 118/542\n",
      "finsih 119/542\n",
      "finsih 120/542\n",
      "finsih 121/542\n",
      "finsih 122/542\n",
      "finsih 123/542\n",
      "finsih 124/542\n",
      "finsih 125/542\n",
      "finsih 126/542\n",
      "finsih 127/542\n",
      "finsih 128/542\n",
      "finsih 129/542\n",
      "finsih 130/542\n",
      "finsih 131/542\n",
      "finsih 132/542\n",
      "finsih 133/542\n",
      "finsih 134/542\n",
      "finsih 135/542\n",
      "finsih 136/542\n",
      "finsih 137/542\n",
      "finsih 138/542\n",
      "finsih 139/542\n",
      "finsih 140/542\n",
      "finsih 141/542\n",
      "finsih 142/542\n",
      "finsih 143/542\n",
      "finsih 144/542\n",
      "finsih 145/542\n",
      "finsih 146/542\n",
      "finsih 147/542\n",
      "finsih 148/542\n",
      "finsih 149/542\n",
      "finsih 150/542\n",
      "finsih 151/542\n",
      "finsih 152/542\n",
      "finsih 153/542\n",
      "finsih 154/542\n",
      "finsih 155/542\n",
      "finsih 156/542\n",
      "finsih 157/542\n",
      "finsih 158/542\n",
      "finsih 159/542\n",
      "finsih 160/542\n",
      "finsih 161/542\n",
      "finsih 162/542\n",
      "finsih 163/542\n",
      "finsih 164/542\n",
      "finsih 165/542\n",
      "finsih 166/542\n",
      "finsih 167/542\n",
      "finsih 168/542\n",
      "finsih 169/542\n",
      "finsih 170/542\n",
      "finsih 171/542\n",
      "finsih 172/542\n",
      "finsih 173/542\n",
      "finsih 174/542\n",
      "finsih 175/542\n",
      "finsih 176/542\n",
      "finsih 177/542\n",
      "finsih 178/542\n",
      "finsih 179/542\n",
      "finsih 180/542\n",
      "finsih 181/542\n",
      "finsih 182/542\n",
      "finsih 183/542\n",
      "finsih 184/542\n",
      "finsih 185/542\n",
      "finsih 186/542\n",
      "finsih 187/542\n",
      "finsih 188/542\n",
      "finsih 189/542\n",
      "finsih 190/542\n",
      "finsih 191/542\n",
      "finsih 192/542\n",
      "finsih 193/542\n",
      "finsih 194/542\n",
      "finsih 195/542\n",
      "finsih 196/542\n",
      "finsih 197/542\n",
      "finsih 198/542\n",
      "finsih 199/542\n",
      "finsih 200/542\n",
      "finsih 201/542\n",
      "finsih 202/542\n",
      "finsih 203/542\n",
      "finsih 204/542\n",
      "finsih 205/542\n",
      "finsih 206/542\n",
      "finsih 207/542\n",
      "finsih 208/542\n",
      "finsih 209/542\n",
      "finsih 210/542\n",
      "finsih 211/542\n",
      "finsih 212/542\n",
      "finsih 213/542\n",
      "finsih 214/542\n",
      "finsih 215/542\n",
      "finsih 216/542\n",
      "finsih 217/542\n",
      "finsih 218/542\n",
      "finsih 219/542\n",
      "finsih 220/542\n",
      "finsih 221/542\n",
      "finsih 222/542\n",
      "finsih 223/542\n",
      "finsih 224/542\n",
      "finsih 225/542\n",
      "finsih 226/542\n",
      "finsih 227/542\n",
      "finsih 228/542\n",
      "finsih 229/542\n",
      "finsih 230/542\n",
      "finsih 231/542\n",
      "finsih 232/542\n",
      "finsih 233/542\n",
      "finsih 234/542\n",
      "finsih 235/542\n",
      "finsih 236/542\n",
      "finsih 237/542\n",
      "finsih 238/542\n",
      "finsih 239/542\n",
      "finsih 240/542\n",
      "finsih 241/542\n",
      "finsih 242/542\n",
      "finsih 243/542\n",
      "finsih 244/542\n",
      "finsih 245/542\n",
      "finsih 246/542\n",
      "finsih 247/542\n",
      "finsih 248/542\n",
      "finsih 249/542\n",
      "finsih 250/542\n",
      "finsih 251/542\n",
      "finsih 252/542\n",
      "finsih 253/542\n",
      "finsih 254/542\n",
      "finsih 255/542\n",
      "finsih 256/542\n",
      "finsih 257/542\n",
      "finsih 258/542\n",
      "finsih 259/542\n",
      "finsih 260/542\n",
      "finsih 261/542\n",
      "finsih 262/542\n",
      "finsih 263/542\n",
      "finsih 264/542\n",
      "finsih 265/542\n",
      "finsih 266/542\n",
      "finsih 267/542\n",
      "finsih 268/542\n",
      "finsih 269/542\n",
      "finsih 270/542\n",
      "finsih 271/542\n",
      "finsih 272/542\n",
      "finsih 273/542\n",
      "finsih 274/542\n",
      "finsih 275/542\n",
      "finsih 276/542\n",
      "finsih 277/542\n",
      "finsih 278/542\n",
      "finsih 279/542\n",
      "finsih 280/542\n",
      "finsih 281/542\n",
      "finsih 282/542\n",
      "finsih 283/542\n",
      "finsih 284/542\n",
      "finsih 285/542\n",
      "finsih 286/542\n",
      "finsih 287/542\n",
      "finsih 288/542\n",
      "finsih 289/542\n",
      "finsih 290/542\n",
      "finsih 291/542\n",
      "finsih 292/542\n",
      "finsih 293/542\n",
      "finsih 294/542\n",
      "finsih 295/542\n",
      "finsih 296/542\n",
      "finsih 297/542\n",
      "finsih 298/542\n",
      "finsih 299/542\n",
      "finsih 300/542\n",
      "finsih 301/542\n",
      "finsih 302/542\n",
      "finsih 303/542\n",
      "finsih 304/542\n",
      "finsih 305/542\n",
      "finsih 306/542\n",
      "finsih 307/542\n",
      "finsih 308/542\n",
      "finsih 309/542\n",
      "finsih 310/542\n",
      "finsih 311/542\n",
      "finsih 312/542\n",
      "finsih 313/542\n",
      "finsih 314/542\n",
      "finsih 315/542\n",
      "finsih 316/542\n",
      "finsih 317/542\n",
      "finsih 318/542\n",
      "finsih 319/542\n",
      "finsih 320/542\n",
      "finsih 321/542\n",
      "finsih 322/542\n",
      "finsih 323/542\n",
      "finsih 324/542\n",
      "finsih 325/542\n",
      "finsih 326/542\n",
      "finsih 327/542\n",
      "finsih 328/542\n",
      "finsih 329/542\n",
      "finsih 330/542\n",
      "finsih 331/542\n",
      "finsih 332/542\n",
      "finsih 333/542\n",
      "finsih 334/542\n",
      "finsih 335/542\n",
      "finsih 336/542\n",
      "finsih 337/542\n",
      "finsih 338/542\n",
      "finsih 339/542\n",
      "finsih 340/542\n",
      "finsih 341/542\n",
      "finsih 342/542\n",
      "finsih 343/542\n",
      "finsih 344/542\n",
      "finsih 345/542\n",
      "finsih 346/542\n",
      "finsih 347/542\n",
      "finsih 348/542\n",
      "finsih 349/542\n",
      "finsih 350/542\n",
      "finsih 351/542\n",
      "finsih 352/542\n",
      "finsih 353/542\n",
      "finsih 354/542\n",
      "finsih 355/542\n",
      "finsih 356/542\n",
      "finsih 357/542\n",
      "finsih 358/542\n",
      "finsih 359/542\n",
      "finsih 360/542\n",
      "finsih 361/542\n",
      "finsih 362/542\n",
      "finsih 363/542\n",
      "finsih 364/542\n",
      "finsih 365/542\n",
      "finsih 366/542\n",
      "finsih 367/542\n",
      "finsih 368/542\n",
      "finsih 369/542\n",
      "finsih 370/542\n",
      "finsih 371/542\n",
      "finsih 372/542\n",
      "finsih 373/542\n",
      "finsih 374/542\n",
      "finsih 375/542\n",
      "finsih 376/542\n",
      "finsih 377/542\n",
      "finsih 378/542\n",
      "finsih 379/542\n",
      "finsih 380/542\n",
      "finsih 381/542\n",
      "finsih 382/542\n",
      "finsih 383/542\n",
      "finsih 384/542\n",
      "finsih 385/542\n",
      "finsih 386/542\n",
      "finsih 387/542\n",
      "finsih 388/542\n",
      "finsih 389/542\n",
      "finsih 390/542\n",
      "finsih 391/542\n",
      "finsih 392/542\n",
      "finsih 393/542\n",
      "finsih 394/542\n",
      "finsih 395/542\n",
      "finsih 396/542\n",
      "finsih 397/542\n",
      "finsih 398/542\n",
      "finsih 399/542\n",
      "finsih 400/542\n",
      "finsih 401/542\n",
      "finsih 402/542\n",
      "finsih 403/542\n",
      "finsih 404/542\n",
      "finsih 405/542\n",
      "finsih 406/542\n",
      "finsih 407/542\n",
      "finsih 408/542\n",
      "finsih 409/542\n",
      "finsih 410/542\n",
      "finsih 411/542\n",
      "finsih 412/542\n",
      "finsih 413/542\n",
      "finsih 414/542\n",
      "finsih 415/542\n",
      "finsih 416/542\n",
      "finsih 417/542\n",
      "finsih 418/542\n",
      "finsih 419/542\n",
      "finsih 420/542\n",
      "finsih 421/542\n",
      "finsih 422/542\n",
      "finsih 423/542\n",
      "finsih 424/542\n",
      "finsih 425/542\n",
      "finsih 426/542\n",
      "finsih 427/542\n",
      "finsih 428/542\n",
      "finsih 429/542\n",
      "finsih 430/542\n",
      "finsih 431/542\n",
      "finsih 432/542\n",
      "finsih 433/542\n",
      "finsih 434/542\n",
      "finsih 435/542\n",
      "finsih 436/542\n",
      "finsih 437/542\n",
      "finsih 438/542\n",
      "finsih 439/542\n",
      "finsih 440/542\n",
      "finsih 441/542\n",
      "finsih 442/542\n",
      "finsih 443/542\n",
      "finsih 444/542\n",
      "finsih 445/542\n",
      "finsih 446/542\n",
      "finsih 447/542\n",
      "finsih 448/542\n",
      "finsih 449/542\n",
      "finsih 450/542\n",
      "finsih 451/542\n",
      "finsih 452/542\n",
      "finsih 453/542\n",
      "finsih 454/542\n",
      "finsih 455/542\n",
      "finsih 456/542\n",
      "finsih 457/542\n",
      "finsih 458/542\n",
      "finsih 459/542\n",
      "finsih 460/542\n",
      "finsih 461/542\n",
      "finsih 462/542\n",
      "finsih 463/542\n",
      "finsih 464/542\n",
      "finsih 465/542\n",
      "finsih 466/542\n",
      "finsih 467/542\n",
      "finsih 468/542\n",
      "finsih 469/542\n",
      "finsih 470/542\n",
      "finsih 471/542\n",
      "finsih 472/542\n",
      "finsih 473/542\n",
      "finsih 474/542\n",
      "finsih 475/542\n",
      "finsih 476/542\n",
      "finsih 477/542\n",
      "finsih 478/542\n",
      "finsih 479/542\n",
      "finsih 480/542\n",
      "finsih 481/542\n",
      "finsih 482/542\n",
      "finsih 483/542\n",
      "finsih 484/542\n",
      "finsih 485/542\n",
      "finsih 486/542\n",
      "finsih 487/542\n",
      "finsih 488/542\n",
      "finsih 489/542\n",
      "finsih 490/542\n",
      "finsih 491/542\n",
      "finsih 492/542\n",
      "finsih 493/542\n",
      "finsih 494/542\n",
      "finsih 495/542\n",
      "finsih 496/542\n",
      "finsih 497/542\n",
      "finsih 498/542\n",
      "finsih 499/542\n",
      "finsih 500/542\n",
      "finsih 501/542\n",
      "finsih 502/542\n",
      "finsih 503/542\n",
      "finsih 504/542\n",
      "finsih 505/542\n",
      "finsih 506/542\n",
      "finsih 507/542\n",
      "finsih 508/542\n",
      "finsih 509/542\n",
      "finsih 510/542\n",
      "finsih 511/542\n",
      "finsih 512/542\n",
      "finsih 513/542\n",
      "finsih 514/542\n",
      "finsih 515/542\n",
      "finsih 516/542\n",
      "finsih 517/542\n",
      "finsih 518/542\n",
      "finsih 519/542\n",
      "finsih 520/542\n",
      "finsih 521/542\n",
      "finsih 522/542\n",
      "finsih 523/542\n",
      "finsih 524/542\n",
      "finsih 525/542\n",
      "finsih 526/542\n",
      "finsih 527/542\n",
      "finsih 528/542\n",
      "finsih 529/542\n",
      "finsih 530/542\n",
      "finsih 531/542\n",
      "finsih 532/542\n",
      "finsih 533/542\n",
      "finsih 534/542\n",
      "finsih 535/542\n",
      "finsih 536/542\n",
      "finsih 537/542\n",
      "finsih 538/542\n",
      "finsih 539/542\n",
      "finsih 540/542\n",
      "finsih 541/542\n",
      "finsih 542/542\n"
     ]
    }
   ],
   "source": [
    "\n",
    "index = []\n",
    "for i in range(len(new_efeds)):\n",
    "    this_efeds_coord = coordinates.SkyCoord(new_efeds['RA'][i], new_efeds['DEC'][i])\n",
    "    index.append(np.where(this_efeds_coord.separation(clean_rd_coord) <= new_efeds['r500c_lcdm'][i])[0])\n",
    "    print(f'finsih {i+1}/{len(new_efeds)}')"
   ]
  },
  {
   "cell_type": "code",
   "execution_count": 73,
   "metadata": {},
   "outputs": [
    {
     "name": "stdout",
     "output_type": "stream",
     "text": [
      "19\n"
     ]
    }
   ],
   "source": [
    "# check\n",
    "for i in range(len(index)):\n",
    "    if len(index[i]) != 0 :\n",
    "        print(i)\n",
    "        break"
   ]
  },
  {
   "cell_type": "code",
   "execution_count": 75,
   "metadata": {},
   "outputs": [
    {
     "name": "stdout",
     "output_type": "stream",
     "text": [
      "128.16171250777919 deg -0.5335537807590048 deg 0.07117582309464207 deg\n"
     ]
    }
   ],
   "source": [
    "print(new_efeds[19]['RA'], new_efeds[19]['DEC'], new_efeds[19]['r500c_lcdm'].to(u.deg))"
   ]
  },
  {
   "cell_type": "code",
   "execution_count": 78,
   "metadata": {},
   "outputs": [
    {
     "data": {
      "text/latex": [
       "$0.35240723 \\; \\mathrm{{}^{\\circ}}$"
      ],
      "text/plain": [
       "<Quantity 0.35240723 deg>"
      ]
     },
     "execution_count": 78,
     "metadata": {},
     "output_type": "execute_result"
    },
    {
     "data": {
      "image/png": "[encoded data removed]",
      "text/plain": [
       "<Figure size 640x480 with 1 Axes>"
      ]
     },
     "metadata": {},
     "output_type": "display_data"
    }
   ],
   "source": [
    "plt.xlim(127.1, 129.1)\n",
    "plt.ylim(-1.5, 0.5)\n",
    "plt.scatter(clean_rd['ra'][index[19]], clean_rd['dec'][index[19]], s = 0.2)\n",
    "plt.scatter(new_efeds[19]['RA'].value, new_efeds[19]['DEC'].value, color = 'black')\n",
    "max(new_efeds['r500c_lcdm'].to(u.deg))"
   ]
  },
  {
   "cell_type": "code",
   "execution_count": 80,
   "metadata": {},
   "outputs": [
    {
     "data": {
      "text/plain": [
       "<matplotlib.collections.PathCollection at 0x7f22904a36a0>"
      ]
     },
     "execution_count": 80,
     "metadata": {},
     "output_type": "execute_result"
    },
    {
     "data": {
      "image/png": "[encoded data removed]",
      "text/plain": [
       "<Figure size 640x480 with 1 Axes>"
      ]
     },
     "metadata": {},
     "output_type": "display_data"
    }
   ],
   "source": [
    "plt.scatter(rd['ra'], rd['dec'], s = 0.1, color = 'red')\n",
    "plt.scatter(clean_rd['ra'], clean_rd['dec'], s = 0.1, color = 'blue')"
   ]
  },
  {
   "cell_type": "code",
   "execution_count": 85,
   "metadata": {},
   "outputs": [],
   "source": [
    "no_masked_area_num = np.array([len(index[i]) for i in range(len(index))])\n",
    "no_masked_area = np.array(no_masked_area_num / 100) * u.arcmin ** 2\n",
    "new_efeds['no_masked_area'] = no_masked_area"
   ]
  },
  {
   "cell_type": "code",
   "execution_count": 88,
   "metadata": {},
   "outputs": [
    {
     "name": "stderr",
     "output_type": "stream",
     "text": [
      "WARNING: The unit 'solMass / littleh' could not be saved in native FITS format and hence will be lost to non-astropy fits readers. Within astropy, the unit can roundtrip using QTable, though one has to enable the unit before reading. [astropy.io.fits.convenience]\n"
     ]
    }
   ],
   "source": [
    "new_efeds['area'] = new_efeds['r500c_lcdm'] ** 2 * np.pi\n",
    "new_efeds.write('data/modified_efeds.fits')"
   ]
  },
  {
   "cell_type": "code",
   "execution_count": 6,
   "metadata": {},
   "outputs": [
    {
     "name": "stderr",
     "output_type": "stream",
     "text": [
      "WARNING: UnitsWarning: 'solMass / littleh' did not parse as fits unit: At col 10, Unit 'littleh' not supported by the FITS standard.  If this is meant to be a custom unit, define it with 'u.def_unit'. To have it recognized inside a file reader or other code, enable it with 'u.add_enabled_units'. For details, see https://docs.astropy.org/en/latest/units/combining_and_defining.html [astropy.units.core]\n",
      "WARNING: UnitsWarning: 'solMass / littleh' did not parse as unit: At col 10, littleh is not a valid unit.  If this is meant to be a custom unit, define it with 'u.def_unit'. To have it recognized inside a file reader or other code, enable it with 'u.add_enabled_units'. For details, see https://docs.astropy.org/en/latest/units/combining_and_defining.html [astropy.units.core]\n"
     ]
    }
   ],
   "source": [
    "new_efeds = table.QTable.read('data/modified_efeds.fits')"
   ]
  },
  {
   "cell_type": "code",
   "execution_count": 5,
   "metadata": {},
   "outputs": [
    {
     "name": "stdout",
     "output_type": "stream",
     "text": [
      "361.44 arcmin2 0.0 arcmin2\n"
     ]
    }
   ],
   "source": [
    "print(max(new_efeds['no_masked_area']), min(new_efeds['no_masked_area']))"
   ]
  },
  {
   "cell_type": "code",
   "execution_count": 54,
   "metadata": {},
   "outputs": [
    {
     "data": {
      "text/plain": [
       "361.44"
      ]
     },
     "execution_count": 54,
     "metadata": {},
     "output_type": "execute_result"
    }
   ],
   "source": [
    "old_efeds = fits.getdata('data/efeds_r_sr_z01_m_cmag_obs_area_icmag[16,22].fits')\n",
    "max(old_efeds['area'])"
   ]
  },
  {
   "cell_type": "code",
   "execution_count": 42,
   "metadata": {},
   "outputs": [],
   "source": [
    "nomask_area = deepcopy(new_efeds['no_masked_area'])\n",
    "new_efeds.remove_column('no_masked_area')\n",
    "new_efeds['nomask_area'] = nomask_area"
   ]
  },
  {
   "cell_type": "code",
   "execution_count": 43,
   "metadata": {},
   "outputs": [
    {
     "data": {
      "text/plain": [
       "['ID',\n",
       " 'ID_SRC',\n",
       " 'RA',\n",
       " 'DEC',\n",
       " 'z',\n",
       " 'median_500c_lcdm',\n",
       " 'r500c_lcdm',\n",
       " 'area',\n",
       " 'nomask_area']"
      ]
     },
     "execution_count": 43,
     "metadata": {},
     "output_type": "execute_result"
    }
   ],
   "source": [
    "new_efeds.colnames"
   ]
  },
  {
   "cell_type": "code",
   "execution_count": 44,
   "metadata": {},
   "outputs": [],
   "source": [
    "coverage30 = (new_efeds['nomask_area'] / new_efeds['area']) >= 0.3"
   ]
  },
  {
   "cell_type": "code",
   "execution_count": 45,
   "metadata": {},
   "outputs": [
    {
     "data": {
      "text/plain": [
       "436"
      ]
     },
     "execution_count": 45,
     "metadata": {},
     "output_type": "execute_result"
    }
   ],
   "source": [
    "len(np.where(coverage30)[0])"
   ]
  },
  {
   "cell_type": "code",
   "execution_count": 15,
   "metadata": {},
   "outputs": [],
   "source": [
    "z_greater_than_0p1 = new_efeds['z'] >= 0.1"
   ]
  },
  {
   "cell_type": "code",
   "execution_count": 47,
   "metadata": {},
   "outputs": [
    {
     "data": {
      "text/plain": [
       "416"
      ]
     },
     "execution_count": 47,
     "metadata": {},
     "output_type": "execute_result"
    }
   ],
   "source": [
    "len(np.where(coverage30 & z_greater_than_0p1)[0])"
   ]
  },
  {
   "cell_type": "code",
   "execution_count": 12,
   "metadata": {},
   "outputs": [
    {
     "data": {
      "text/plain": [
       "401"
      ]
     },
     "execution_count": 12,
     "metadata": {},
     "output_type": "execute_result"
    }
   ],
   "source": [
    "len(old_efeds)"
   ]
  },
  {
   "cell_type": "code",
   "execution_count": 48,
   "metadata": {},
   "outputs": [],
   "source": [
    "new_efeds['coverage30'] = coverage30\n",
    "new_efeds['z_greater_than_0p1'] = z_greater_than_0p1"
   ]
  },
  {
   "cell_type": "code",
   "execution_count": 52,
   "metadata": {},
   "outputs": [],
   "source": [
    "new_efeds['science_ready'] = coverage30 & z_greater_than_0p1"
   ]
  },
  {
   "cell_type": "code",
   "execution_count": 53,
   "metadata": {},
   "outputs": [
    {
     "name": "stderr",
     "output_type": "stream",
     "text": [
      "WARNING: UnitsWarning: 'solMass / littleh' did not parse as fits unit: At col 10, Unit 'littleh' not supported by the FITS standard.  If this is meant to be a custom unit, define it with 'u.def_unit'. To have it recognized inside a file reader or other code, enable it with 'u.add_enabled_units'. For details, see https://docs.astropy.org/en/latest/units/combining_and_defining.html [astropy.units.core]\n"
     ]
    }
   ],
   "source": [
    "new_efeds.write('data/modified_efeds.fits', overwrite = True)"
   ]
  },
  {
   "cell_type": "code",
   "execution_count": 1,
   "metadata": {},
   "outputs": [],
   "source": [
    "from rsmodel import outputModels as model"
   ]
  },
  {
   "cell_type": "code",
   "execution_count": 7,
   "metadata": {},
   "outputs": [],
   "source": [
    "i_cmag = [model.printRSmodel(\n",
    "    '/home/hylin/workspace/data/bc03_rs_zfp3d0_tau_p0d4.fits',\n",
    "    ['hsc_i'],\n",
    "    new_efeds['z'][i]\n",
    "    )[1]['hsc_i'][4] for i in range(len(new_efeds))]"
   ]
  },
  {
   "cell_type": "code",
   "execution_count": 9,
   "metadata": {},
   "outputs": [],
   "source": [
    "new_efeds['i_cmag'] = i_cmag"
   ]
  },
  {
   "cell_type": "code",
   "execution_count": 12,
   "metadata": {},
   "outputs": [],
   "source": [
    "new_efeds['i_cmag_between_16_22'] = (new_efeds['i_cmag'] >= 16) & (new_efeds['i_cmag'] <= 22)"
   ]
  },
  {
   "cell_type": "code",
   "execution_count": 14,
   "metadata": {},
   "outputs": [
    {
     "data": {
      "text/plain": [
       "391"
      ]
     },
     "execution_count": 14,
     "metadata": {},
     "output_type": "execute_result"
    }
   ],
   "source": [
    "len(np.where(new_efeds['science_ready'] & new_efeds['i_cmag_between_16_22'])[0])"
   ]
  },
  {
   "cell_type": "code",
   "execution_count": 17,
   "metadata": {},
   "outputs": [],
   "source": [
    "coverage20 = (new_efeds['nomask_area'] / new_efeds['area']) >= 0.2"
   ]
  },
  {
   "cell_type": "code",
   "execution_count": 18,
   "metadata": {},
   "outputs": [
    {
     "data": {
      "text/plain": [
       "401"
      ]
     },
     "execution_count": 18,
     "metadata": {},
     "output_type": "execute_result"
    }
   ],
   "source": [
    "len(np.where(coverage20 & z_greater_than_0p1 & new_efeds['i_cmag_between_16_22'])[0])"
   ]
  },
  {
   "cell_type": "code",
   "execution_count": 20,
   "metadata": {},
   "outputs": [],
   "source": [
    "new_efeds.remove_column('coverage30')"
   ]
  },
  {
   "cell_type": "code",
   "execution_count": 21,
   "metadata": {},
   "outputs": [],
   "source": [
    "new_efeds['coverage20'] = coverage20\n",
    "new_efeds['science_ready'] = coverage20 & z_greater_than_0p1 & new_efeds['i_cmag_between_16_22']"
   ]
  },
  {
   "cell_type": "code",
   "execution_count": 22,
   "metadata": {},
   "outputs": [
    {
     "data": {
      "text/plain": [
       "401"
      ]
     },
     "execution_count": 22,
     "metadata": {},
     "output_type": "execute_result"
    }
   ],
   "source": [
    "len(np.where(new_efeds['science_ready'])[0])"
   ]
  },
  {
   "cell_type": "code",
   "execution_count": 23,
   "metadata": {},
   "outputs": [
    {
     "name": "stderr",
     "output_type": "stream",
     "text": [
      "WARNING: UnitsWarning: 'solMass / littleh' did not parse as fits unit: At col 10, Unit 'littleh' not supported by the FITS standard.  If this is meant to be a custom unit, define it with 'u.def_unit'. To have it recognized inside a file reader or other code, enable it with 'u.add_enabled_units'. For details, see https://docs.astropy.org/en/latest/units/combining_and_defining.html [astropy.units.core]\n"
     ]
    }
   ],
   "source": [
    "new_efeds.write('data/modified_efeds_v1.fits')"
   ]
  },
  {
   "cell_type": "code",
   "execution_count": 25,
   "metadata": {},
   "outputs": [],
   "source": [
    "hsc = fits.getdata('data/hsc_scienceFlag_i24_isgalaxy_zbound.fits', ext = -1)\n",
    "# This hsc has been chosed that 1. science_flag == True \n",
    "#                               2. imag_cmodel > 24\n",
    "#                               3. iclassification_extendedness == 1"
   ]
  },
  {
   "cell_type": "code",
   "execution_count": 27,
   "metadata": {},
   "outputs": [
    {
     "name": "stdout",
     "output_type": "stream",
     "text": [
      "10139579 10139579\n"
     ]
    }
   ],
   "source": [
    "zbound_file = fits.getdata('data/zbound.fits', ext = -1)\n",
    "print(len(hsc), len(zbound_file))"
   ]
  },
  {
   "cell_type": "code",
   "execution_count": 28,
   "metadata": {},
   "outputs": [
    {
     "data": {
      "text/plain": [
       "True"
      ]
     },
     "execution_count": 28,
     "metadata": {},
     "output_type": "execute_result"
    }
   ],
   "source": [
    "(zbound_file['object_id'] == hsc['object_id']).all()"
   ]
  },
  {
   "cell_type": "code",
   "execution_count": 32,
   "metadata": {},
   "outputs": [],
   "source": [
    "hsc_coord = coordinates.SkyCoord(hsc['ra'] * u.deg, hsc['dec'] * u.deg)"
   ]
  },
  {
   "cell_type": "code",
   "execution_count": 34,
   "metadata": {},
   "outputs": [],
   "source": [
    "clean_hsc = hsc_coord.search_around_sky(efeds_coord, max(new_efeds['r500c_lcdm'] * 1.2))"
   ]
  },
  {
   "cell_type": "code",
   "execution_count": 37,
   "metadata": {},
   "outputs": [
    {
     "name": "stdout",
     "output_type": "stream",
     "text": [
      "finish 1/542\n",
      "finish 2/542\n",
      "finish 3/542\n",
      "finish 4/542\n",
      "finish 5/542\n",
      "finish 6/542\n",
      "finish 7/542\n",
      "finish 8/542\n",
      "finish 9/542\n",
      "finish 10/542\n",
      "finish 11/542\n",
      "finish 12/542\n",
      "finish 13/542\n",
      "finish 14/542\n",
      "finish 15/542\n",
      "finish 16/542\n",
      "finish 17/542\n",
      "finish 18/542\n",
      "finish 19/542\n",
      "finish 20/542\n",
      "finish 21/542\n",
      "finish 22/542\n",
      "finish 23/542\n",
      "finish 24/542\n",
      "finish 25/542\n",
      "finish 26/542\n",
      "finish 27/542\n",
      "finish 28/542\n",
      "finish 29/542\n",
      "finish 30/542\n",
      "finish 31/542\n",
      "finish 32/542\n",
      "finish 33/542\n",
      "finish 34/542\n",
      "finish 35/542\n",
      "finish 36/542\n",
      "finish 37/542\n",
      "finish 38/542\n",
      "finish 39/542\n",
      "finish 40/542\n",
      "finish 41/542\n",
      "finish 42/542\n",
      "finish 43/542\n",
      "finish 44/542\n",
      "finish 45/542\n",
      "finish 46/542\n",
      "finish 47/542\n",
      "finish 48/542\n",
      "finish 49/542\n",
      "finish 50/542\n",
      "finish 51/542\n",
      "finish 52/542\n",
      "finish 53/542\n",
      "finish 54/542\n",
      "finish 55/542\n",
      "finish 56/542\n",
      "finish 57/542\n",
      "finish 58/542\n",
      "finish 59/542\n",
      "finish 60/542\n",
      "finish 61/542\n",
      "finish 62/542\n",
      "finish 63/542\n",
      "finish 64/542\n",
      "finish 65/542\n",
      "finish 66/542\n",
      "finish 67/542\n",
      "finish 68/542\n",
      "finish 69/542\n",
      "finish 70/542\n",
      "finish 71/542\n",
      "finish 72/542\n",
      "finish 73/542\n",
      "finish 74/542\n",
      "finish 75/542\n",
      "finish 76/542\n",
      "finish 77/542\n",
      "finish 78/542\n",
      "finish 79/542\n",
      "finish 80/542\n",
      "finish 81/542\n",
      "finish 82/542\n",
      "finish 83/542\n",
      "finish 84/542\n",
      "finish 85/542\n",
      "finish 86/542\n",
      "finish 87/542\n",
      "finish 88/542\n",
      "finish 89/542\n",
      "finish 90/542\n",
      "finish 91/542\n",
      "finish 92/542\n",
      "finish 93/542\n",
      "finish 94/542\n",
      "finish 95/542\n",
      "finish 96/542\n",
      "finish 97/542\n",
      "finish 98/542\n",
      "finish 99/542\n",
      "finish 100/542\n",
      "finish 101/542\n",
      "finish 102/542\n",
      "finish 103/542\n",
      "finish 104/542\n",
      "finish 105/542\n",
      "finish 106/542\n",
      "finish 107/542\n",
      "finish 108/542\n",
      "finish 109/542\n",
      "finish 110/542\n",
      "finish 111/542\n",
      "finish 112/542\n",
      "finish 113/542\n",
      "finish 114/542\n",
      "finish 115/542\n",
      "finish 116/542\n",
      "finish 117/542\n",
      "finish 118/542\n",
      "finish 119/542\n",
      "finish 120/542\n",
      "finish 121/542\n",
      "finish 122/542\n",
      "finish 123/542\n",
      "finish 124/542\n",
      "finish 125/542\n",
      "finish 126/542\n",
      "finish 127/542\n",
      "finish 128/542\n",
      "finish 129/542\n",
      "finish 130/542\n",
      "finish 131/542\n",
      "finish 132/542\n",
      "finish 133/542\n",
      "finish 134/542\n",
      "finish 135/542\n",
      "finish 136/542\n",
      "finish 137/542\n",
      "finish 138/542\n",
      "finish 139/542\n",
      "finish 140/542\n",
      "finish 141/542\n",
      "finish 142/542\n",
      "finish 143/542\n",
      "finish 144/542\n",
      "finish 145/542\n",
      "finish 146/542\n",
      "finish 147/542\n",
      "finish 148/542\n",
      "finish 149/542\n",
      "finish 150/542\n",
      "finish 151/542\n",
      "finish 152/542\n",
      "finish 153/542\n",
      "finish 154/542\n",
      "finish 155/542\n",
      "finish 156/542\n",
      "finish 157/542\n",
      "finish 158/542\n",
      "finish 159/542\n",
      "finish 160/542\n",
      "finish 161/542\n",
      "finish 162/542\n",
      "finish 163/542\n",
      "finish 164/542\n",
      "finish 165/542\n",
      "finish 166/542\n",
      "finish 167/542\n",
      "finish 168/542\n",
      "finish 169/542\n",
      "finish 170/542\n",
      "finish 171/542\n",
      "finish 172/542\n",
      "finish 173/542\n",
      "finish 174/542\n",
      "finish 175/542\n",
      "finish 176/542\n",
      "finish 177/542\n",
      "finish 178/542\n",
      "finish 179/542\n",
      "finish 180/542\n",
      "finish 181/542\n",
      "finish 182/542\n",
      "finish 183/542\n",
      "finish 184/542\n",
      "finish 185/542\n",
      "finish 186/542\n",
      "finish 187/542\n",
      "finish 188/542\n",
      "finish 189/542\n",
      "finish 190/542\n",
      "finish 191/542\n",
      "finish 192/542\n",
      "finish 193/542\n",
      "finish 194/542\n",
      "finish 195/542\n",
      "finish 196/542\n",
      "finish 197/542\n",
      "finish 198/542\n",
      "finish 199/542\n",
      "finish 200/542\n",
      "finish 201/542\n",
      "finish 202/542\n",
      "finish 203/542\n",
      "finish 204/542\n",
      "finish 205/542\n",
      "finish 206/542\n",
      "finish 207/542\n",
      "finish 208/542\n",
      "finish 209/542\n",
      "finish 210/542\n",
      "finish 211/542\n",
      "finish 212/542\n",
      "finish 213/542\n",
      "finish 214/542\n",
      "finish 215/542\n",
      "finish 216/542\n",
      "finish 217/542\n",
      "finish 218/542\n",
      "finish 219/542\n",
      "finish 220/542\n",
      "finish 221/542\n",
      "finish 222/542\n",
      "finish 223/542\n",
      "finish 224/542\n",
      "finish 225/542\n",
      "finish 226/542\n",
      "finish 227/542\n",
      "finish 228/542\n",
      "finish 229/542\n",
      "finish 230/542\n",
      "finish 231/542\n",
      "finish 232/542\n",
      "finish 233/542\n",
      "finish 234/542\n",
      "finish 235/542\n",
      "finish 236/542\n",
      "finish 237/542\n",
      "finish 238/542\n",
      "finish 239/542\n",
      "finish 240/542\n",
      "finish 241/542\n",
      "finish 242/542\n",
      "finish 243/542\n",
      "finish 244/542\n",
      "finish 245/542\n",
      "finish 246/542\n",
      "finish 247/542\n",
      "finish 248/542\n",
      "finish 249/542\n",
      "finish 250/542\n",
      "finish 251/542\n",
      "finish 252/542\n",
      "finish 253/542\n",
      "finish 254/542\n",
      "finish 255/542\n",
      "finish 256/542\n",
      "finish 257/542\n",
      "finish 258/542\n",
      "finish 259/542\n",
      "finish 260/542\n",
      "finish 261/542\n",
      "finish 262/542\n",
      "finish 263/542\n",
      "finish 264/542\n",
      "finish 265/542\n",
      "finish 266/542\n",
      "finish 267/542\n",
      "finish 268/542\n",
      "finish 269/542\n",
      "finish 270/542\n",
      "finish 271/542\n",
      "finish 272/542\n",
      "finish 273/542\n",
      "finish 274/542\n",
      "finish 275/542\n",
      "finish 276/542\n",
      "finish 277/542\n",
      "finish 278/542\n",
      "finish 279/542\n",
      "finish 280/542\n",
      "finish 281/542\n",
      "finish 282/542\n",
      "finish 283/542\n",
      "finish 284/542\n",
      "finish 285/542\n",
      "finish 286/542\n",
      "finish 287/542\n",
      "finish 288/542\n",
      "finish 289/542\n",
      "finish 290/542\n",
      "finish 291/542\n",
      "finish 292/542\n",
      "finish 293/542\n",
      "finish 294/542\n",
      "finish 295/542\n",
      "finish 296/542\n",
      "finish 297/542\n",
      "finish 298/542\n",
      "finish 299/542\n",
      "finish 300/542\n",
      "finish 301/542\n",
      "finish 302/542\n",
      "finish 303/542\n",
      "finish 304/542\n",
      "finish 305/542\n",
      "finish 306/542\n",
      "finish 307/542\n",
      "finish 308/542\n",
      "finish 309/542\n",
      "finish 310/542\n",
      "finish 311/542\n",
      "finish 312/542\n",
      "finish 313/542\n",
      "finish 314/542\n",
      "finish 315/542\n",
      "finish 316/542\n",
      "finish 317/542\n",
      "finish 318/542\n",
      "finish 319/542\n",
      "finish 320/542\n",
      "finish 321/542\n",
      "finish 322/542\n",
      "finish 323/542\n",
      "finish 324/542\n",
      "finish 325/542\n",
      "finish 326/542\n",
      "finish 327/542\n",
      "finish 328/542\n",
      "finish 329/542\n",
      "finish 330/542\n",
      "finish 331/542\n",
      "finish 332/542\n",
      "finish 333/542\n",
      "finish 334/542\n",
      "finish 335/542\n",
      "finish 336/542\n",
      "finish 337/542\n",
      "finish 338/542\n",
      "finish 339/542\n",
      "finish 340/542\n",
      "finish 341/542\n",
      "finish 342/542\n",
      "finish 343/542\n",
      "finish 344/542\n",
      "finish 345/542\n",
      "finish 346/542\n",
      "finish 347/542\n",
      "finish 348/542\n",
      "finish 349/542\n",
      "finish 350/542\n",
      "finish 351/542\n",
      "finish 352/542\n",
      "finish 353/542\n",
      "finish 354/542\n",
      "finish 355/542\n",
      "finish 356/542\n",
      "finish 357/542\n",
      "finish 358/542\n",
      "finish 359/542\n",
      "finish 360/542\n",
      "finish 361/542\n",
      "finish 362/542\n",
      "finish 363/542\n",
      "finish 364/542\n",
      "finish 365/542\n",
      "finish 366/542\n",
      "finish 367/542\n",
      "finish 368/542\n",
      "finish 369/542\n",
      "finish 370/542\n",
      "finish 371/542\n",
      "finish 372/542\n",
      "finish 373/542\n",
      "finish 374/542\n",
      "finish 375/542\n",
      "finish 376/542\n",
      "finish 377/542\n",
      "finish 378/542\n",
      "finish 379/542\n",
      "finish 380/542\n",
      "finish 381/542\n",
      "finish 382/542\n",
      "finish 383/542\n",
      "finish 384/542\n",
      "finish 385/542\n",
      "finish 386/542\n",
      "finish 387/542\n",
      "finish 388/542\n",
      "finish 389/542\n",
      "finish 390/542\n",
      "finish 391/542\n",
      "finish 392/542\n",
      "finish 393/542\n",
      "finish 394/542\n",
      "finish 395/542\n",
      "finish 396/542\n",
      "finish 397/542\n",
      "finish 398/542\n",
      "finish 399/542\n",
      "finish 400/542\n",
      "finish 401/542\n",
      "finish 402/542\n",
      "finish 403/542\n",
      "finish 404/542\n",
      "finish 405/542\n",
      "finish 406/542\n",
      "finish 407/542\n",
      "finish 408/542\n",
      "finish 409/542\n",
      "finish 410/542\n",
      "finish 411/542\n",
      "finish 412/542\n",
      "finish 413/542\n",
      "finish 414/542\n",
      "finish 415/542\n",
      "finish 416/542\n",
      "finish 417/542\n",
      "finish 418/542\n",
      "finish 419/542\n",
      "finish 420/542\n",
      "finish 421/542\n",
      "finish 422/542\n",
      "finish 423/542\n",
      "finish 424/542\n",
      "finish 425/542\n",
      "finish 426/542\n",
      "finish 427/542\n",
      "finish 428/542\n",
      "finish 429/542\n",
      "finish 430/542\n",
      "finish 431/542\n",
      "finish 432/542\n",
      "finish 433/542\n",
      "finish 434/542\n",
      "finish 435/542\n",
      "finish 436/542\n",
      "finish 437/542\n",
      "finish 438/542\n",
      "finish 439/542\n",
      "finish 440/542\n",
      "finish 441/542\n",
      "finish 442/542\n",
      "finish 443/542\n",
      "finish 444/542\n",
      "finish 445/542\n",
      "finish 446/542\n",
      "finish 447/542\n",
      "finish 448/542\n",
      "finish 449/542\n",
      "finish 450/542\n",
      "finish 451/542\n",
      "finish 452/542\n",
      "finish 453/542\n",
      "finish 454/542\n",
      "finish 455/542\n",
      "finish 456/542\n",
      "finish 457/542\n",
      "finish 458/542\n",
      "finish 459/542\n",
      "finish 460/542\n",
      "finish 461/542\n",
      "finish 462/542\n",
      "finish 463/542\n",
      "finish 464/542\n",
      "finish 465/542\n",
      "finish 466/542\n",
      "finish 467/542\n",
      "finish 468/542\n",
      "finish 469/542\n",
      "finish 470/542\n",
      "finish 471/542\n",
      "finish 472/542\n",
      "finish 473/542\n",
      "finish 474/542\n",
      "finish 475/542\n",
      "finish 476/542\n",
      "finish 477/542\n",
      "finish 478/542\n",
      "finish 479/542\n",
      "finish 480/542\n",
      "finish 481/542\n",
      "finish 482/542\n",
      "finish 483/542\n",
      "finish 484/542\n",
      "finish 485/542\n",
      "finish 486/542\n",
      "finish 487/542\n",
      "finish 488/542\n",
      "finish 489/542\n",
      "finish 490/542\n",
      "finish 491/542\n",
      "finish 492/542\n",
      "finish 493/542\n",
      "finish 494/542\n",
      "finish 495/542\n",
      "finish 496/542\n",
      "finish 497/542\n",
      "finish 498/542\n",
      "finish 499/542\n",
      "finish 500/542\n",
      "finish 501/542\n",
      "finish 502/542\n",
      "finish 503/542\n",
      "finish 504/542\n",
      "finish 505/542\n",
      "finish 506/542\n",
      "finish 507/542\n",
      "finish 508/542\n",
      "finish 509/542\n",
      "finish 510/542\n",
      "finish 511/542\n",
      "finish 512/542\n",
      "finish 513/542\n",
      "finish 514/542\n",
      "finish 515/542\n",
      "finish 516/542\n",
      "finish 517/542\n",
      "finish 518/542\n",
      "finish 519/542\n",
      "finish 520/542\n",
      "finish 521/542\n",
      "finish 522/542\n",
      "finish 523/542\n",
      "finish 524/542\n",
      "finish 525/542\n",
      "finish 526/542\n",
      "finish 527/542\n",
      "finish 528/542\n",
      "finish 529/542\n",
      "finish 530/542\n",
      "finish 531/542\n",
      "finish 532/542\n",
      "finish 533/542\n",
      "finish 534/542\n",
      "finish 535/542\n",
      "finish 536/542\n",
      "finish 537/542\n",
      "finish 538/542\n",
      "finish 539/542\n",
      "finish 540/542\n",
      "finish 541/542\n",
      "finish 542/542\n"
     ]
    }
   ],
   "source": [
    "alllf_raw = []\n",
    "bins=np.linspace(14,24,41)\n",
    "for i in range(len(new_efeds)):\n",
    "    this_coord = coordinates.SkyCoord(new_efeds['RA'][i], new_efeds['DEC'][i])\n",
    "    i_ignore_zbound = np.where(this_coord.separation(hsc_coord) <= new_efeds['r500c_lcdm'][i])[0]\n",
    "    this_hsc = hsc[i_ignore_zbound]\n",
    "    \n",
    "    # apply zbound\n",
    "    this_hsc = hsc[np.where((this_hsc['zbound'][:,0] <= new_efeds['z'][i]) & (this_hsc['zbound'][:,1] >= new_efeds['z'][i]))[0]]\n",
    "    alllf_raw.append(np.histogram(this_hsc['imag_cmodel'], bins)[0])\n",
    "    print(f'finish {i+1}/{len(new_efeds)}')\n"
   ]
  },
  {
   "cell_type": "code",
   "execution_count": 39,
   "metadata": {},
   "outputs": [
    {
     "data": {
      "text/plain": [
       "array([21, 24, 27, 28, 29, 30, 31, 32, 34, 37])"
      ]
     },
     "execution_count": 39,
     "metadata": {},
     "output_type": "execute_result"
    }
   ],
   "source": [
    "np.where(new_efeds['science_ready'])[0][:10]"
   ]
  },
  {
   "cell_type": "code",
   "execution_count": 46,
   "metadata": {},
   "outputs": [
    {
     "data": {
      "text/plain": [
       "(542, 40)"
      ]
     },
     "execution_count": 46,
     "metadata": {},
     "output_type": "execute_result"
    }
   ],
   "source": [
    "np.shape(alllf_raw)"
   ]
  },
  {
   "cell_type": "code",
   "execution_count": 47,
   "metadata": {},
   "outputs": [
    {
     "name": "stderr",
     "output_type": "stream",
     "text": [
      "/home/hylin/.conda/envs/env1/lib/python3.9/site-packages/astropy/units/quantity.py:671: RuntimeWarning: invalid value encountered in divide\n",
      "  result = super().__array_ufunc__(function, method, *arrays, **kwargs)\n"
     ]
    }
   ],
   "source": [
    "new_efeds['bins'] = np.array([bins for i in new_efeds])\n",
    "new_efeds['i_obs_alllf_raw'] = np.array(alllf_raw)\n",
    "new_efeds['i_obs_alllf_corrected'] = [np.array(alllf_raw)[i] / new_efeds['nomask_area'][i] * new_efeds['area'][i] for i in range(len(new_efeds))]"
   ]
  },
  {
   "cell_type": "code",
   "execution_count": 55,
   "metadata": {},
   "outputs": [
    {
     "data": {
      "text/plain": [
       "array([0])"
      ]
     },
     "execution_count": 55,
     "metadata": {},
     "output_type": "execute_result"
    }
   ],
   "source": [
    "np.where(old_efeds['ID_SRC'] == new_efeds['ID_SRC'][21])[0]"
   ]
  },
  {
   "cell_type": "code",
   "execution_count": 63,
   "metadata": {},
   "outputs": [
    {
     "name": "stdout",
     "output_type": "stream",
     "text": [
      "[  0.           0.           0.           0.           0.\n",
      "   0.           0.           0.           0.           0.\n",
      "   0.           0.           0.           0.           1.40877915\n",
      "   0.           0.           0.           0.           0.\n",
      "   1.40877915   1.40877915   0.           2.8175583    5.6351166\n",
      "  11.2702332    5.6351166   12.67901235  16.9053498   16.9053498\n",
      "  15.49657065  42.26337451  73.25651582  64.80384092  71.84773667\n",
      "  88.75308648 128.19890269 132.42524014 162.0096023  171.87105635]\n",
      "[  0.           0.           0.           0.           0.\n",
      "   0.           0.           0.           0.           0.\n",
      "   0.           1.40877915   1.40877915   0.           0.\n",
      "   0.           1.40877915   2.8175583    4.22633745   2.8175583\n",
      "   4.22633745   5.6351166    7.04389575  12.67901235   8.4526749\n",
      "   7.04389575  21.13168726  25.35802471  21.13168726  26.76680386\n",
      "  38.03703706  52.12482856  40.85459536  42.26337451  69.03017837\n",
      "  67.62139922 104.24965713 105.65843628 166.23593975 187.367627  ]\n"
     ]
    }
   ],
   "source": [
    "print(old_efeds['obs'][0])\n",
    "print(new_efeds['i_obs_alllf_corrected'][21])\n",
    "# It's kind of wried that they are different. May caused by the difference between `angular_separation` and `Skycoord.separation`"
   ]
  },
  {
   "cell_type": "code",
   "execution_count": 73,
   "metadata": {},
   "outputs": [
    {
     "name": "stdout",
     "output_type": "stream",
     "text": [
      "ang_sep = [  0   0   0   0   0   0   0   0   1   1   1   0   0   0   1   1   2   6\n",
      "   2   1   9   3   5  10  14  14  10  18  26  25  30  45  68  57  80  82\n",
      " 116 122 151 158]\n",
      "sep = [  0   0   0   0   0   0   0   0   1   1   1   0   0   0   1   1   2   6\n",
      "   2   1   9   3   5  10  14  14  10  18  26  25  30  45  68  57  80  82\n",
      " 116 122 151 158]\n"
     ]
    }
   ],
   "source": [
    "# Let's check it.\n",
    "i_new = 21\n",
    "i_old = 0\n",
    "pos = [new_efeds[i_new]['RA'].value, new_efeds[i_new]['DEC'].value]\n",
    "ang_sep = fl.quantity_function('imag_cmodel', pos, hsc, new_efeds['r500c_lcdm'][i_new].to(u.deg).value, bins)[0]\n",
    "\n",
    "this_coord = coordinates.SkyCoord(pos[0] * u.deg, pos[1] * u.deg)\n",
    "close_index = np.where(this_coord.separation(hsc_coord) <= new_efeds[i_new]['r500c_lcdm'])[0]\n",
    "sep = np.histogram(hsc[close_index]['imag_cmodel'], bins)[0]\n",
    "print('ang_sep =', ang_sep)\n",
    "print('sep =', sep)\n",
    "# What? Why?"
   ]
  },
  {
   "cell_type": "code",
   "execution_count": 74,
   "metadata": {},
   "outputs": [
    {
     "name": "stderr",
     "output_type": "stream",
     "text": [
      "WARNING: UnitsWarning: 'solMass / littleh' did not parse as fits unit: At col 10, Unit 'littleh' not supported by the FITS standard.  If this is meant to be a custom unit, define it with 'u.def_unit'. To have it recognized inside a file reader or other code, enable it with 'u.add_enabled_units'. For details, see https://docs.astropy.org/en/latest/units/combining_and_defining.html [astropy.units.core]\n"
     ]
    }
   ],
   "source": [
    "new_efeds.write('data/modified_efeds_ver1.fits')"
   ]
  }
 ],
 "metadata": {
  "kernelspec": {
   "display_name": "Python 3",
   "language": "python",
   "name": "python3"
  },
  "language_info": {
   "codemirror_mode": {
    "name": "ipython",
    "version": 3
   },
   "file_extension": ".py",
   "mimetype": "text/x-python",
   "name": "python",
   "nbconvert_exporter": "python",
   "pygments_lexer": "ipython3",
   "version": "3.9.19"
  }
 },
 "nbformat": 4,
 "nbformat_minor": 2
}
