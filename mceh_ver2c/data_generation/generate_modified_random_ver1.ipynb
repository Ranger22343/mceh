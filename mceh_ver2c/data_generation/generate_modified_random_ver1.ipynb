{
 "cells": [
  {
   "cell_type": "code",
   "execution_count": 1,
   "metadata": {},
   "outputs": [],
   "source": [
    "from astropy.table import QTable\n",
    "import astropy.units as u"
   ]
  },
  {
   "cell_type": "code",
   "execution_count": 2,
   "metadata": {},
   "outputs": [],
   "source": [
    "rd = QTable.read('data/random_gama09h.fits')"
   ]
  },
  {
   "cell_type": "code",
   "execution_count": 3,
   "metadata": {},
   "outputs": [
    {
     "data": {
      "text/plain": [
       "['object_id',\n",
       " 'object_id_isnull',\n",
       " 'tract',\n",
       " 'tract_isnull',\n",
       " 'ra',\n",
       " 'ra_isnull',\n",
       " 'dec',\n",
       " 'dec_isnull',\n",
       " 'combined_photo_flag',\n",
       " 'combined_photo_flag_isnull',\n",
       " 'fdfc_flag',\n",
       " 'fdfc_flag_isnull',\n",
       " 'combined_bstar_flag',\n",
       " 'combined_bstar_flag_isnull',\n",
       " 'science_flag',\n",
       " 'science_flag_isnull']"
      ]
     },
     "execution_count": 3,
     "metadata": {},
     "output_type": "execute_result"
    }
   ],
   "source": [
    "rd.colnames"
   ]
  },
  {
   "cell_type": "code",
   "execution_count": 4,
   "metadata": {},
   "outputs": [
    {
     "data": {
      "text/plain": [
       "151.78388509830978"
      ]
     },
     "execution_count": 4,
     "metadata": {},
     "output_type": "execute_result"
    }
   ],
   "source": [
    "rd['ra'][0]"
   ]
  },
  {
   "cell_type": "code",
   "execution_count": 5,
   "metadata": {},
   "outputs": [],
   "source": [
    "sf_rd = rd[rd['science_flag']]\n",
    "new_rd = QTable()\n",
    "new_rd['RA'] = sf_rd['ra'] * u.deg\n",
    "new_rd['DEC'] = sf_rd['dec'] * u.deg"
   ]
  },
  {
   "cell_type": "code",
   "execution_count": 6,
   "metadata": {},
   "outputs": [],
   "source": [
    "new_rd.write('data/modified_random_ver1.fits')"
   ]
  }
 ],
 "metadata": {
  "kernelspec": {
   "display_name": "Python 3",
   "language": "python",
   "name": "python3"
  },
  "language_info": {
   "codemirror_mode": {
    "name": "ipython",
    "version": 3
   },
   "file_extension": ".py",
   "mimetype": "text/x-python",
   "name": "python",
   "nbconvert_exporter": "python",
   "pygments_lexer": "ipython3",
   "version": "3.9.19"
  }
 },
 "nbformat": 4,
 "nbformat_minor": 2
}
