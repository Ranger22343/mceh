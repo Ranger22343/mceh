{
 "cells": [
  {
   "cell_type": "code",
   "execution_count": 1,
   "metadata": {},
   "outputs": [],
   "source": [
    "from astropy.table import QTable\n",
    "import numpy as np\n",
    "import astropy.units as u"
   ]
  },
  {
   "cell_type": "code",
   "execution_count": 2,
   "metadata": {},
   "outputs": [],
   "source": [
    "hsc = QTable.read('data/429561.fits')"
   ]
  },
  {
   "cell_type": "code",
   "execution_count": 3,
   "metadata": {},
   "outputs": [
    {
     "data": {
      "text/plain": [
       "['object_id',\n",
       " 'object_id_isnull',\n",
       " 'tract',\n",
       " 'tract_isnull',\n",
       " 'ra',\n",
       " 'ra_isnull',\n",
       " 'dec',\n",
       " 'dec_isnull',\n",
       " 'iclassification_extendedness',\n",
       " 'iclassification_extendedness_isnull',\n",
       " 'gmag_cmodel',\n",
       " 'gmag_cmodel_isnull',\n",
       " 'gmag_err',\n",
       " 'gmag_err_isnull',\n",
       " 'rmag_cmodel',\n",
       " 'rmag_cmodel_isnull',\n",
       " 'rmag_err',\n",
       " 'rmag_err_isnull',\n",
       " 'imag_cmodel',\n",
       " 'imag_cmodel_isnull',\n",
       " 'imag_err',\n",
       " 'imag_err_isnull',\n",
       " 'zmag_cmodel',\n",
       " 'zmag_cmodel_isnull',\n",
       " 'zmag_err',\n",
       " 'zmag_err_isnull',\n",
       " 'ymag_cmodel',\n",
       " 'ymag_cmodel_isnull',\n",
       " 'ymag_err',\n",
       " 'ymag_err_isnull',\n",
       " 'combined_photo_flag',\n",
       " 'combined_photo_flag_isnull',\n",
       " 'fdfc_flag',\n",
       " 'fdfc_flag_isnull',\n",
       " 'combined_bstar_flag',\n",
       " 'combined_bstar_flag_isnull',\n",
       " 'science_flag',\n",
       " 'science_flag_isnull',\n",
       " 'photoz_mean',\n",
       " 'photoz_mean_isnull',\n",
       " 'photoz_mode',\n",
       " 'photoz_mode_isnull',\n",
       " 'photoz_median',\n",
       " 'photoz_median_isnull',\n",
       " 'photoz_best',\n",
       " 'photoz_best_isnull',\n",
       " 'photoz_mc',\n",
       " 'photoz_mc_isnull',\n",
       " 'photoz_err68_min',\n",
       " 'photoz_err68_min_isnull',\n",
       " 'photoz_err68_max',\n",
       " 'photoz_err68_max_isnull',\n",
       " 'photoz_err95_min',\n",
       " 'photoz_err95_min_isnull',\n",
       " 'photoz_err95_max',\n",
       " 'photoz_err95_max_isnull',\n",
       " 'stellar_mass',\n",
       " 'stellar_mass_isnull',\n",
       " 'stellar_mass_err68_min',\n",
       " 'stellar_mass_err68_min_isnull',\n",
       " 'stellar_mass_err68_max',\n",
       " 'stellar_mass_err68_max_isnull',\n",
       " 'stellar_mass_err95_min',\n",
       " 'stellar_mass_err95_min_isnull',\n",
       " 'stellar_mass_err95_max',\n",
       " 'stellar_mass_err95_max_isnull',\n",
       " 'sfr',\n",
       " 'sfr_isnull',\n",
       " 'sfr_err68_min',\n",
       " 'sfr_err68_min_isnull',\n",
       " 'sfr_err68_max',\n",
       " 'sfr_err68_max_isnull',\n",
       " 'sfr_err95_min',\n",
       " 'sfr_err95_min_isnull',\n",
       " 'sfr_err95_max',\n",
       " 'sfr_err95_max_isnull']"
      ]
     },
     "execution_count": 3,
     "metadata": {},
     "output_type": "execute_result"
    }
   ],
   "source": [
    "hsc.colnames"
   ]
  },
  {
   "cell_type": "code",
   "execution_count": 4,
   "metadata": {},
   "outputs": [
    {
     "data": {
      "text/plain": [
       "128.64859052771786"
      ]
     },
     "execution_count": 4,
     "metadata": {},
     "output_type": "execute_result"
    }
   ],
   "source": [
    "# Check units.\n",
    "hsc['ra'][0]"
   ]
  },
  {
   "cell_type": "code",
   "execution_count": 5,
   "metadata": {},
   "outputs": [],
   "source": [
    "new_hsc = hsc[hsc['science_flag']]"
   ]
  },
  {
   "cell_type": "code",
   "execution_count": 6,
   "metadata": {},
   "outputs": [
    {
     "data": {
      "text/html": [
       "&lt;MaskedColumn name=&apos;iclassification_extendedness&apos; dtype=&apos;float32&apos; length=3&gt;\n",
       "<table>\n",
       "<tr><td>0.0</td></tr>\n",
       "<tr><td>1.0</td></tr>\n",
       "<tr><td>--</td></tr>\n",
       "</table>"
      ],
      "text/plain": [
       "<MaskedColumn name='iclassification_extendedness' dtype='float32' length=3>\n",
       "0.0\n",
       "1.0\n",
       " --"
      ]
     },
     "execution_count": 6,
     "metadata": {},
     "output_type": "execute_result"
    }
   ],
   "source": [
    "np.unique(new_hsc['iclassification_extendedness'])"
   ]
  },
  {
   "cell_type": "code",
   "execution_count": 7,
   "metadata": {},
   "outputs": [],
   "source": [
    "new_hsc = new_hsc[new_hsc['iclassification_extendedness'] > 0.9]"
   ]
  },
  {
   "cell_type": "code",
   "execution_count": 8,
   "metadata": {},
   "outputs": [
    {
     "data": {
      "text/plain": [
       "24720393"
      ]
     },
     "execution_count": 8,
     "metadata": {},
     "output_type": "execute_result"
    }
   ],
   "source": [
    "len(new_hsc)"
   ]
  },
  {
   "cell_type": "code",
   "execution_count": 9,
   "metadata": {},
   "outputs": [],
   "source": [
    "new_hsc2 = QTable()\n",
    "colname = [\n",
    "    'object_id', \n",
    "    'tract', \n",
    "    'ra', \n",
    "    'dec', \n",
    "    'gmag_cmodel', \n",
    "    'rmag_cmodel', \n",
    "    'imag_cmodel', \n",
    "    'zmag_cmodel', \n",
    "    'ymag_cmodel', \n",
    "    'gmag_err',\n",
    "    'rmag_err',\n",
    "    'imag_err',\n",
    "    'zmag_err',\n",
    "    'ymag_err',\n",
    "    'photoz_mean',\n",
    "    'photoz_mode',\n",
    "    'photoz_median',\n",
    "    'photoz_best',\n",
    "    'photoz_mc',\n",
    "    'photoz_err68_min',\n",
    "    'photoz_err68_max',\n",
    "    'photoz_err95_min',\n",
    "    'photoz_err95_max'\n",
    "    ]\n",
    "for col in colname:\n",
    "    new_hsc2[col] = new_hsc[col]"
   ]
  },
  {
   "cell_type": "code",
   "execution_count": 10,
   "metadata": {},
   "outputs": [
    {
     "name": "stdout",
     "output_type": "stream",
     "text": [
      "128.6549530150433 deg\n"
     ]
    }
   ],
   "source": [
    "new_hsc2['ra'] *= u.deg\n",
    "new_hsc2['dec'] *= u.deg\n",
    "print(new_hsc2['ra'][0])"
   ]
  },
  {
   "cell_type": "code",
   "execution_count": 11,
   "metadata": {},
   "outputs": [],
   "source": [
    "new_hsc2.write('data/modified_hsc_ver2.fits', overwrite = True)"
   ]
  }
 ],
 "metadata": {
  "kernelspec": {
   "display_name": "Python 3",
   "language": "python",
   "name": "python3"
  },
  "language_info": {
   "codemirror_mode": {
    "name": "ipython",
    "version": 3
   },
   "file_extension": ".py",
   "mimetype": "text/x-python",
   "name": "python",
   "nbconvert_exporter": "python",
   "pygments_lexer": "ipython3",
   "version": "3.9.19"
  }
 },
 "nbformat": 4,
 "nbformat_minor": 2
}
