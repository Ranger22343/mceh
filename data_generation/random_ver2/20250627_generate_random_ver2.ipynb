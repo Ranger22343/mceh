{
 "cells": [
  {
   "cell_type": "code",
   "execution_count": 1,
   "id": "65583bfe",
   "metadata": {},
   "outputs": [],
   "source": [
    "from astropy.table import QTable\n",
    "import astropy.units as u\n",
    "import numpy as np"
   ]
  },
  {
   "cell_type": "code",
   "execution_count": 2,
   "id": "12b76de5",
   "metadata": {},
   "outputs": [],
   "source": [
    "random = QTable.read('/array/users/hylin/hsc_s23b_spring_random.fits')"
   ]
  },
  {
   "cell_type": "code",
   "execution_count": 3,
   "id": "f2cff417",
   "metadata": {},
   "outputs": [
    {
     "data": {
      "text/plain": [
       "55862792"
      ]
     },
     "execution_count": 3,
     "metadata": {},
     "output_type": "execute_result"
    }
   ],
   "source": [
    "len(random)"
   ]
  },
  {
   "cell_type": "code",
   "execution_count": 4,
   "id": "10917e50",
   "metadata": {},
   "outputs": [
    {
     "data": {
      "text/plain": [
       "['object_id',\n",
       " 'object_id_isnull',\n",
       " 'tract',\n",
       " 'tract_isnull',\n",
       " 'ra',\n",
       " 'ra_isnull',\n",
       " 'dec',\n",
       " 'dec_isnull',\n",
       " 'g_inputcount_value',\n",
       " 'g_inputcount_value_isnull',\n",
       " 'r_inputcount_value',\n",
       " 'r_inputcount_value_isnull',\n",
       " 'i_inputcount_value',\n",
       " 'i_inputcount_value_isnull',\n",
       " 'z_inputcount_value',\n",
       " 'z_inputcount_value_isnull',\n",
       " 'y_inputcount_value',\n",
       " 'y_inputcount_value_isnull',\n",
       " 'combined_photo_flag',\n",
       " 'combined_photo_flag_isnull',\n",
       " 'fdfc_flag',\n",
       " 'fdfc_flag_isnull',\n",
       " 'combined_bstar_flag',\n",
       " 'combined_bstar_flag_isnull',\n",
       " 'science_flag',\n",
       " 'science_flag_isnull']"
      ]
     },
     "execution_count": 4,
     "metadata": {},
     "output_type": "execute_result"
    }
   ],
   "source": [
    "random.keys()"
   ]
  },
  {
   "cell_type": "code",
   "execution_count": 5,
   "id": "a0675e81",
   "metadata": {},
   "outputs": [
    {
     "data": {
      "text/plain": [
       "32403904"
      ]
     },
     "execution_count": 5,
     "metadata": {},
     "output_type": "execute_result"
    }
   ],
   "source": [
    "sum(random['science_flag'])"
   ]
  },
  {
   "cell_type": "code",
   "execution_count": 6,
   "id": "09ba0be4",
   "metadata": {},
   "outputs": [],
   "source": [
    "random = random[random['science_flag']]\n",
    "random['ra'] *= u.deg\n",
    "random['dec'] *= u.deg"
   ]
  },
  {
   "cell_type": "code",
   "execution_count": 7,
   "id": "94cf4752",
   "metadata": {},
   "outputs": [
    {
     "data": {
      "text/plain": [
       "32403904"
      ]
     },
     "execution_count": 7,
     "metadata": {},
     "output_type": "execute_result"
    }
   ],
   "source": [
    "len(random)"
   ]
  },
  {
   "cell_type": "code",
   "execution_count": 8,
   "id": "b72034f2",
   "metadata": {},
   "outputs": [],
   "source": [
    "random.write('data/modified_random_ver2.fits', overwrite=True)"
   ]
  }
 ],
 "metadata": {
  "kernelspec": {
   "display_name": "Python 3",
   "language": "python",
   "name": "python3"
  },
  "language_info": {
   "codemirror_mode": {
    "name": "ipython",
    "version": 3
   },
   "file_extension": ".py",
   "mimetype": "text/x-python",
   "name": "python",
   "nbconvert_exporter": "python",
   "pygments_lexer": "ipython3",
   "version": "3.9.19"
  }
 },
 "nbformat": 4,
 "nbformat_minor": 5
}
