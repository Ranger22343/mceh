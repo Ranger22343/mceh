{
 "cells": [
  {
   "cell_type": "code",
   "execution_count": 1,
   "metadata": {},
   "outputs": [],
   "source": [
    "from astropy.table import QTable"
   ]
  },
  {
   "cell_type": "code",
   "execution_count": 3,
   "metadata": {},
   "outputs": [
    {
     "name": "stderr",
     "output_type": "stream",
     "text": [
      "/home/hylin/.conda/envs/env1/lib/python3.9/site-packages/astropy/units/core.py:2126: UnitsWarning: 'solMass / littleh' did not parse as fits unit: At col 10, Unit 'littleh' not supported by the FITS standard.  If this is meant to be a custom unit, define it with 'u.def_unit'. To have it recognized inside a file reader or other code, enable it with 'u.add_enabled_units'. For details, see https://docs.astropy.org/en/latest/units/combining_and_defining.html\n",
      "  warnings.warn(msg, UnitsWarning)\n",
      "/home/hylin/.conda/envs/env1/lib/python3.9/site-packages/astropy/units/core.py:2126: UnitsWarning: 'solMass / littleh' did not parse as unit: At col 10, littleh is not a valid unit.  If this is meant to be a custom unit, define it with 'u.def_unit'. To have it recognized inside a file reader or other code, enable it with 'u.add_enabled_units'. For details, see https://docs.astropy.org/en/latest/units/combining_and_defining.html\n",
      "  warnings.warn(msg, UnitsWarning)\n",
      "/home/hylin/.conda/envs/env1/lib/python3.9/site-packages/astropy/units/format/generic.py:575: UnitsWarning: 'erg /cm**2 /s' contains multiple slashes, which is discouraged by the FITS standard\n",
      "  warnings.warn(\n",
      "/home/hylin/.conda/envs/env1/lib/python3.9/site-packages/astropy/units/core.py:2126: UnitsWarning: 'M_sol/h 10^14' did not parse as fits unit: At col 0, Unit 'M_sol' not supported by the FITS standard.  If this is meant to be a custom unit, define it with 'u.def_unit'. To have it recognized inside a file reader or other code, enable it with 'u.add_enabled_units'. For details, see https://docs.astropy.org/en/latest/units/combining_and_defining.html\n",
      "  warnings.warn(msg, UnitsWarning)\n"
     ]
    }
   ],
   "source": [
    "efeds = QTable.read('data/modified_efeds_ver7.fits')\n",
    "ctp = QTable.read('data/eFEDS_c001_main_ctp_clus_v2.1.fits')"
   ]
  },
  {
   "cell_type": "code",
   "execution_count": 5,
   "metadata": {},
   "outputs": [],
   "source": [
    "efeds['SIGMA_Z_BEST_COMB'] = ctp['SIGMA_Z_BEST_COMB']"
   ]
  },
  {
   "cell_type": "code",
   "execution_count": 6,
   "metadata": {},
   "outputs": [
    {
     "data": {
      "text/html": [
       "&lt;Column name=&apos;SIGMA_Z_BEST_COMB&apos; dtype=&apos;float64&apos; length=542&gt;\n",
       "<table>\n",
       "<tr><td>0.015551760953766727</td></tr>\n",
       "<tr><td>0.007157434093552574</td></tr>\n",
       "<tr><td>0.005174685772215613</td></tr>\n",
       "<tr><td>0.005172742878038227</td></tr>\n",
       "<tr><td>0.004560263152492527</td></tr>\n",
       "<tr><td>0.0051646878348698575</td></tr>\n",
       "<tr><td>0.0062593171509599385</td></tr>\n",
       "<tr><td>0.0010000000474974513</td></tr>\n",
       "<tr><td>0.004822637963511418</td></tr>\n",
       "<tr><td>0.005304867148968227</td></tr>\n",
       "<tr><td>0.010291927271987605</td></tr>\n",
       "<tr><td>0.0048873670306311175</td></tr>\n",
       "<tr><td>...</td></tr>\n",
       "<tr><td>0.011070357199654612</td></tr>\n",
       "<tr><td>0.06334093404614079</td></tr>\n",
       "<tr><td>0.012770836619376705</td></tr>\n",
       "<tr><td>0.05356194942001878</td></tr>\n",
       "<tr><td>0.006733957310737218</td></tr>\n",
       "<tr><td>0.007202535434156257</td></tr>\n",
       "<tr><td>0.008301799925716832</td></tr>\n",
       "<tr><td>0.03534220716558488</td></tr>\n",
       "<tr><td>0.02556194925467569</td></tr>\n",
       "<tr><td>0.009464278063495158</td></tr>\n",
       "<tr><td>0.014376678502577568</td></tr>\n",
       "<tr><td>0.013846166523758847</td></tr>\n",
       "</table>"
      ],
      "text/plain": [
       "<Column name='SIGMA_Z_BEST_COMB' dtype='float64' length=542>\n",
       " 0.015551760953766727\n",
       " 0.007157434093552574\n",
       " 0.005174685772215613\n",
       " 0.005172742878038227\n",
       " 0.004560263152492527\n",
       "0.0051646878348698575\n",
       "0.0062593171509599385\n",
       "0.0010000000474974513\n",
       " 0.004822637963511418\n",
       " 0.005304867148968227\n",
       " 0.010291927271987605\n",
       "0.0048873670306311175\n",
       "                  ...\n",
       " 0.011070357199654612\n",
       "  0.06334093404614079\n",
       " 0.012770836619376705\n",
       "  0.05356194942001878\n",
       " 0.006733957310737218\n",
       " 0.007202535434156257\n",
       " 0.008301799925716832\n",
       "  0.03534220716558488\n",
       "  0.02556194925467569\n",
       " 0.009464278063495158\n",
       " 0.014376678502577568\n",
       " 0.013846166523758847"
      ]
     },
     "execution_count": 6,
     "metadata": {},
     "output_type": "execute_result"
    }
   ],
   "source": [
    "efeds['SIGMA_Z_BEST_COMB']"
   ]
  },
  {
   "cell_type": "code",
   "execution_count": 7,
   "metadata": {},
   "outputs": [
    {
     "name": "stderr",
     "output_type": "stream",
     "text": [
      "/home/hylin/.conda/envs/env1/lib/python3.9/site-packages/astropy/units/core.py:2126: UnitsWarning: 'solMass / littleh' did not parse as fits unit: At col 10, Unit 'littleh' not supported by the FITS standard.  If this is meant to be a custom unit, define it with 'u.def_unit'. To have it recognized inside a file reader or other code, enable it with 'u.add_enabled_units'. For details, see https://docs.astropy.org/en/latest/units/combining_and_defining.html\n",
      "  warnings.warn(msg, UnitsWarning)\n"
     ]
    }
   ],
   "source": [
    "efeds.write('data/modified_efeds_ver8.fits')"
   ]
  }
 ],
 "metadata": {
  "kernelspec": {
   "display_name": "Python 3",
   "language": "python",
   "name": "python3"
  },
  "language_info": {
   "codemirror_mode": {
    "name": "ipython",
    "version": 3
   },
   "file_extension": ".py",
   "mimetype": "text/x-python",
   "name": "python",
   "nbconvert_exporter": "python",
   "pygments_lexer": "ipython3",
   "version": "3.9.19"
  }
 },
 "nbformat": 4,
 "nbformat_minor": 2
}
