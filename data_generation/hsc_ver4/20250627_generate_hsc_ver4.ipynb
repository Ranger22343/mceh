{
 "cells": [
  {
   "cell_type": "code",
   "execution_count": 1,
   "id": "992df592",
   "metadata": {},
   "outputs": [],
   "source": [
    "from astropy.table import QTable\n",
    "import astropy.units as u\n",
    "import numpy as np"
   ]
  },
  {
   "cell_type": "code",
   "execution_count": 2,
   "id": "71afb9d4",
   "metadata": {},
   "outputs": [],
   "source": [
    "hsc = QTable.read('hylin/hsc_s23b_spring.fits')"
   ]
  },
  {
   "cell_type": "code",
   "execution_count": 3,
   "id": "21214cd7",
   "metadata": {},
   "outputs": [
    {
     "data": {
      "text/plain": [
       "31800553"
      ]
     },
     "execution_count": 3,
     "metadata": {},
     "output_type": "execute_result"
    }
   ],
   "source": [
    "len(hsc)"
   ]
  },
  {
   "cell_type": "code",
   "execution_count": 4,
   "id": "e562db62",
   "metadata": {},
   "outputs": [
    {
     "data": {
      "text/plain": [
       "19758158"
      ]
     },
     "execution_count": 4,
     "metadata": {},
     "output_type": "execute_result"
    }
   ],
   "source": [
    "sum(hsc['science_flag'] == True)"
   ]
  },
  {
   "cell_type": "code",
   "execution_count": 5,
   "id": "6cc4c019",
   "metadata": {},
   "outputs": [],
   "source": [
    "hsc = hsc[hsc['science_flag'] == True]"
   ]
  },
  {
   "cell_type": "code",
   "execution_count": 6,
   "id": "83952b2c",
   "metadata": {},
   "outputs": [
    {
     "data": {
      "text/plain": [
       "['object_id',\n",
       " 'object_id_isnull',\n",
       " 'tract',\n",
       " 'tract_isnull',\n",
       " 'ra',\n",
       " 'ra_isnull',\n",
       " 'dec',\n",
       " 'dec_isnull',\n",
       " 'iclassification_extendedness',\n",
       " 'iclassification_extendedness_isnull',\n",
       " 'g_inputcount_value',\n",
       " 'g_inputcount_value_isnull',\n",
       " 'r_inputcount_value',\n",
       " 'r_inputcount_value_isnull',\n",
       " 'i_inputcount_value',\n",
       " 'i_inputcount_value_isnull',\n",
       " 'z_inputcount_value',\n",
       " 'z_inputcount_value_isnull',\n",
       " 'y_inputcount_value',\n",
       " 'y_inputcount_value_isnull',\n",
       " 'gmag_cmodel',\n",
       " 'gmag_cmodel_isnull',\n",
       " 'gmag_err',\n",
       " 'gmag_err_isnull',\n",
       " 'rmag_cmodel',\n",
       " 'rmag_cmodel_isnull',\n",
       " 'rmag_err',\n",
       " 'rmag_err_isnull',\n",
       " 'imag_cmodel',\n",
       " 'imag_cmodel_isnull',\n",
       " 'imag_err',\n",
       " 'imag_err_isnull',\n",
       " 'zmag_cmodel',\n",
       " 'zmag_cmodel_isnull',\n",
       " 'zmag_err',\n",
       " 'zmag_err_isnull',\n",
       " 'ymag_cmodel',\n",
       " 'ymag_cmodel_isnull',\n",
       " 'ymag_err',\n",
       " 'ymag_err_isnull',\n",
       " 'gmag_aper',\n",
       " 'gmag_aper_isnull',\n",
       " 'gmag_aper_err',\n",
       " 'gmag_aper_err_isnull',\n",
       " 'rmag_aper',\n",
       " 'rmag_aper_isnull',\n",
       " 'rmag_aper_err',\n",
       " 'rmag_aper_err_isnull',\n",
       " 'imag_aper',\n",
       " 'imag_aper_isnull',\n",
       " 'imag_aper_err',\n",
       " 'imag_aper_err_isnull',\n",
       " 'zmag_aper',\n",
       " 'zmag_aper_isnull',\n",
       " 'zmag_aper_err',\n",
       " 'zmag_aper_err_isnull',\n",
       " 'ymag_aper',\n",
       " 'ymag_aper_isnull',\n",
       " 'ymag_aper_err',\n",
       " 'ymag_aper_err_isnull',\n",
       " 'combined_photo_flag',\n",
       " 'combined_photo_flag_isnull',\n",
       " 'fdfc_flag',\n",
       " 'fdfc_flag_isnull',\n",
       " 'combined_bstar_flag',\n",
       " 'combined_bstar_flag_isnull',\n",
       " 'science_flag',\n",
       " 'science_flag_isnull']"
      ]
     },
     "execution_count": 6,
     "metadata": {},
     "output_type": "execute_result"
    }
   ],
   "source": [
    "hsc.keys()"
   ]
  },
  {
   "cell_type": "code",
   "execution_count": 6,
   "id": "219c5eb1",
   "metadata": {},
   "outputs": [],
   "source": [
    "hsc['ra'] *= u.deg\n",
    "hsc['dec'] *= u.deg\n",
    "hsc.remove_column('science_flag')"
   ]
  },
  {
   "cell_type": "code",
   "execution_count": 7,
   "id": "1a51d160",
   "metadata": {},
   "outputs": [
    {
     "data": {
      "text/plain": [
       "['object_id',\n",
       " 'object_id_isnull',\n",
       " 'tract',\n",
       " 'tract_isnull',\n",
       " 'ra',\n",
       " 'ra_isnull',\n",
       " 'dec',\n",
       " 'dec_isnull',\n",
       " 'iclassification_extendedness',\n",
       " 'iclassification_extendedness_isnull',\n",
       " 'g_inputcount_value',\n",
       " 'g_inputcount_value_isnull',\n",
       " 'r_inputcount_value',\n",
       " 'r_inputcount_value_isnull',\n",
       " 'i_inputcount_value',\n",
       " 'i_inputcount_value_isnull',\n",
       " 'z_inputcount_value',\n",
       " 'z_inputcount_value_isnull',\n",
       " 'y_inputcount_value',\n",
       " 'y_inputcount_value_isnull',\n",
       " 'gmag_cmodel',\n",
       " 'gmag_cmodel_isnull',\n",
       " 'gmag_err',\n",
       " 'gmag_err_isnull',\n",
       " 'rmag_cmodel',\n",
       " 'rmag_cmodel_isnull',\n",
       " 'rmag_err',\n",
       " 'rmag_err_isnull',\n",
       " 'imag_cmodel',\n",
       " 'imag_cmodel_isnull',\n",
       " 'imag_err',\n",
       " 'imag_err_isnull',\n",
       " 'zmag_cmodel',\n",
       " 'zmag_cmodel_isnull',\n",
       " 'zmag_err',\n",
       " 'zmag_err_isnull',\n",
       " 'ymag_cmodel',\n",
       " 'ymag_cmodel_isnull',\n",
       " 'ymag_err',\n",
       " 'ymag_err_isnull',\n",
       " 'gmag_aper',\n",
       " 'gmag_aper_isnull',\n",
       " 'gmag_aper_err',\n",
       " 'gmag_aper_err_isnull',\n",
       " 'rmag_aper',\n",
       " 'rmag_aper_isnull',\n",
       " 'rmag_aper_err',\n",
       " 'rmag_aper_err_isnull',\n",
       " 'imag_aper',\n",
       " 'imag_aper_isnull',\n",
       " 'imag_aper_err',\n",
       " 'imag_aper_err_isnull',\n",
       " 'zmag_aper',\n",
       " 'zmag_aper_isnull',\n",
       " 'zmag_aper_err',\n",
       " 'zmag_aper_err_isnull',\n",
       " 'ymag_aper',\n",
       " 'ymag_aper_isnull',\n",
       " 'ymag_aper_err',\n",
       " 'ymag_aper_err_isnull',\n",
       " 'combined_photo_flag',\n",
       " 'combined_photo_flag_isnull',\n",
       " 'fdfc_flag',\n",
       " 'fdfc_flag_isnull',\n",
       " 'combined_bstar_flag',\n",
       " 'combined_bstar_flag_isnull',\n",
       " 'science_flag_isnull']"
      ]
     },
     "execution_count": 7,
     "metadata": {},
     "output_type": "execute_result"
    }
   ],
   "source": [
    "hsc.keys()"
   ]
  },
  {
   "cell_type": "code",
   "execution_count": 8,
   "id": "f3f542fc",
   "metadata": {},
   "outputs": [
    {
     "data": {
      "text/plain": [
       "19758158"
      ]
     },
     "execution_count": 8,
     "metadata": {},
     "output_type": "execute_result"
    }
   ],
   "source": [
    "len(hsc)"
   ]
  },
  {
   "cell_type": "code",
   "execution_count": 9,
   "id": "04834487",
   "metadata": {},
   "outputs": [
    {
     "data": {
      "text/plain": [
       "18116079"
      ]
     },
     "execution_count": 9,
     "metadata": {},
     "output_type": "execute_result"
    }
   ],
   "source": [
    "hsc = hsc[hsc['iclassification_extendedness'] > 0.9]\n",
    "len(hsc)"
   ]
  },
  {
   "cell_type": "code",
   "execution_count": 13,
   "id": "ec326a01",
   "metadata": {},
   "outputs": [],
   "source": [
    "hsc.remove_column('iclassification_extendedness')"
   ]
  },
  {
   "cell_type": "code",
   "execution_count": 11,
   "id": "28b0b683",
   "metadata": {},
   "outputs": [],
   "source": [
    "np.random.seed(20250627)\n",
    "hsc['random'] = np.random.rand(len(hsc))"
   ]
  },
  {
   "cell_type": "code",
   "execution_count": 15,
   "id": "a06cd2da",
   "metadata": {},
   "outputs": [],
   "source": [
    "hsc.write('data/modified_hsc_ver4.fits')"
   ]
  }
 ],
 "metadata": {
  "kernelspec": {
   "display_name": "Python 3",
   "language": "python",
   "name": "python3"
  },
  "language_info": {
   "codemirror_mode": {
    "name": "ipython",
    "version": 3
   },
   "file_extension": ".py",
   "mimetype": "text/x-python",
   "name": "python",
   "nbconvert_exporter": "python",
   "pygments_lexer": "ipython3",
   "version": "3.9.19"
  }
 },
 "nbformat": 4,
 "nbformat_minor": 5
}
