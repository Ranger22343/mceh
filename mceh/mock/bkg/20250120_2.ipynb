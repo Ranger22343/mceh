{
 "cells": [
  {
   "cell_type": "code",
   "execution_count": 24,
   "metadata": {},
   "outputs": [],
   "source": [
    "import numpy as np\n",
    "from astropy.io import fits\n",
    "import astropy.units as u\n",
    "import astropy.coordinates as coord\n",
    "import matplotlib.pyplot as plt\n",
    "import mceh\n",
    "import random\n",
    "import tqdm\n",
    "from astropy import table"
   ]
  },
  {
   "cell_type": "code",
   "execution_count": 5,
   "metadata": {},
   "outputs": [
    {
     "name": "stderr",
     "output_type": "stream",
     "text": [
      "WARNING: UnitsWarning: 'solMass / littleh' did not parse as fits unit: At col 10, Unit 'littleh' not supported by the FITS standard.  If this is meant to be a custom unit, define it with 'u.def_unit'. To have it recognized inside a file reader or other code, enable it with 'u.add_enabled_units'. For details, see https://docs.astropy.org/en/latest/units/combining_and_defining.html [astropy.units.core]\n",
      "WARNING: UnitsWarning: 'solMass / littleh' did not parse as unit: At col 10, littleh is not a valid unit.  If this is meant to be a custom unit, define it with 'u.def_unit'. To have it recognized inside a file reader or other code, enable it with 'u.add_enabled_units'. For details, see https://docs.astropy.org/en/latest/units/combining_and_defining.html [astropy.units.core]\n"
     ]
    }
   ],
   "source": [
    "efeds, hsc, rd = mceh.init('efeds', 'hsc', 'rd')"
   ]
  },
  {
   "cell_type": "code",
   "execution_count": 6,
   "metadata": {},
   "outputs": [
    {
     "data": {
      "text/plain": [
       "['object_id',\n",
       " 'tract',\n",
       " 'ra',\n",
       " 'dec',\n",
       " 'gmag_cmodel',\n",
       " 'rmag_cmodel',\n",
       " 'imag_cmodel',\n",
       " 'zmag_cmodel',\n",
       " 'ymag_cmodel',\n",
       " 'gmag_err',\n",
       " 'rmag_err',\n",
       " 'imag_err',\n",
       " 'zmag_err',\n",
       " 'ymag_err',\n",
       " 'photoz_mean',\n",
       " 'photoz_mode',\n",
       " 'photoz_median',\n",
       " 'photoz_best',\n",
       " 'photoz_mc',\n",
       " 'photoz_err68_min',\n",
       " 'photoz_err68_max',\n",
       " 'photoz_err95_min',\n",
       " 'photoz_err95_max']"
      ]
     },
     "execution_count": 6,
     "metadata": {},
     "output_type": "execute_result"
    }
   ],
   "source": [
    "hsc.colnames"
   ]
  },
  {
   "cell_type": "code",
   "execution_count": 7,
   "metadata": {},
   "outputs": [
    {
     "data": {
      "text/plain": [
       "(127.80994023048872, 153.49999636210816)"
      ]
     },
     "execution_count": 7,
     "metadata": {},
     "output_type": "execute_result"
    }
   ],
   "source": [
    "ra_width = max(hsc['ra'].value) - min(hsc['ra'].value)\n",
    "min(hsc['ra'].value), max(hsc['ra'].value)"
   ]
  },
  {
   "cell_type": "code",
   "execution_count": 8,
   "metadata": {},
   "outputs": [
    {
     "data": {
      "text/plain": [
       "(127.81019382633114, 153.49999621241412)"
      ]
     },
     "execution_count": 8,
     "metadata": {},
     "output_type": "execute_result"
    }
   ],
   "source": [
    "min(rd['RA'].value), max(rd['RA'].value)"
   ]
  },
  {
   "cell_type": "code",
   "execution_count": 9,
   "metadata": {},
   "outputs": [
    {
     "data": {
      "text/plain": [
       "(-2.023433194900005, 5.047695845391878)"
      ]
     },
     "execution_count": 9,
     "metadata": {},
     "output_type": "execute_result"
    }
   ],
   "source": [
    "dec_width = max(hsc['dec'].value) - min(hsc['dec'].value)\n",
    "min(hsc['dec'].value), max(hsc['dec'].value)"
   ]
  },
  {
   "cell_type": "code",
   "execution_count": 10,
   "metadata": {},
   "outputs": [
    {
     "data": {
      "text/plain": [
       "(127.81019382633114, 153.49999621241412)"
      ]
     },
     "execution_count": 10,
     "metadata": {},
     "output_type": "execute_result"
    }
   ],
   "source": [
    "min(rd['RA'].value), max(rd['RA'].value)"
   ]
  },
  {
   "cell_type": "code",
   "execution_count": 11,
   "metadata": {},
   "outputs": [
    {
     "data": {
      "text/plain": [
       "120.0"
      ]
     },
     "execution_count": 11,
     "metadata": {},
     "output_type": "execute_result"
    }
   ],
   "source": [
    "360 / 15 * 5"
   ]
  },
  {
   "cell_type": "code",
   "execution_count": 12,
   "metadata": {},
   "outputs": [],
   "source": [
    "low_ra, high_ra = min(hsc['ra'].value) * u.deg, max(hsc['ra'].value) * u.deg\n",
    "low_dec, high_dec = min(hsc['dec'].value) * u.deg, max(hsc['dec'].value) * u.deg"
   ]
  },
  {
   "cell_type": "code",
   "execution_count": 13,
   "metadata": {},
   "outputs": [],
   "source": [
    "low_arcsin_dec, high_arcsin_dec = np.arcsin(low_dec.to(u.rad).value), np.arcsin(high_dec.to(u.rad).value)"
   ]
  },
  {
   "cell_type": "code",
   "execution_count": 14,
   "metadata": {},
   "outputs": [
    {
     "data": {
      "text/latex": [
       "$127.80994 \\; \\mathrm{{}^{\\circ}}$"
      ],
      "text/plain": [
       "<Quantity 127.80994023 deg>"
      ]
     },
     "execution_count": 14,
     "metadata": {},
     "output_type": "execute_result"
    }
   ],
   "source": [
    "low_ra"
   ]
  },
  {
   "cell_type": "code",
   "execution_count": 15,
   "metadata": {},
   "outputs": [
    {
     "data": {
      "text/plain": [
       "array([ 29.65920461,  84.9180665 ,  66.34988509, 103.05966938,\n",
       "        89.95025652,  89.35652299,  11.28661114,  80.64482264,\n",
       "        35.64399685,  65.75375762])"
      ]
     },
     "execution_count": 15,
     "metadata": {},
     "output_type": "execute_result"
    }
   ],
   "source": [
    "np.random.uniform(low = low_ra.value, high=high_dec.value, size=10)"
   ]
  },
  {
   "cell_type": "code",
   "execution_count": 16,
   "metadata": {},
   "outputs": [],
   "source": [
    "def calculate_area(ra_min, ra_max, dec_min, dec_max):\n",
    "    return (((ra_max.to(u.rad).value - ra_min.to(u.rad).value) \n",
    "            * (np.sin(dec_max.to(u.rad).value) - np.sin(dec_min.to(u.rad).value)\n",
    "               )) * u.rad**2).to(u.deg**2)"
   ]
  },
  {
   "cell_type": "code",
   "execution_count": 17,
   "metadata": {},
   "outputs": [],
   "source": [
    "efeds_num = len(efeds)"
   ]
  },
  {
   "cell_type": "code",
   "execution_count": 18,
   "metadata": {},
   "outputs": [],
   "source": [
    "a = coord.SkyCoord([1, 2] * u.deg, u.deg * [3, 4])\n",
    "b = coord.SkyCoord(u.deg * [1, 2], u.deg * [10, 4])"
   ]
  },
  {
   "cell_type": "code",
   "execution_count": 19,
   "metadata": {},
   "outputs": [
    {
     "data": {
      "text/latex": [
       "$0^\\circ00{}^\\prime00{}^{\\prime\\prime}$"
      ],
      "text/plain": [
       "<Angle 0. deg>"
      ]
     },
     "execution_count": 19,
     "metadata": {},
     "output_type": "execute_result"
    }
   ],
   "source": [
    "(a.separation(b))[1]"
   ]
  },
  {
   "cell_type": "code",
   "execution_count": 20,
   "metadata": {},
   "outputs": [
    {
     "name": "stdout",
     "output_type": "stream",
     "text": [
      "542\n"
     ]
    },
    {
     "data": {
      "text/html": [
       "<i>Row index=0</i>\n",
       "<table id=\"table139891338459504\">\n",
       "<thead><tr><th>Name</th><th>ID_SRC</th><th>RA_CORR</th><th>DEC_CORR</th><th>Z_BEST_COMB</th><th>low_cont_flag</th><th>median_500c_lcdm</th><th>r500c_lcdm</th><th>area</th><th>unmasked_area</th><th>i_cmag</th><th>g_cmag</th><th>r_cmag</th><th>z_cmag</th><th>y_cmag</th><th>galaxy_index</th><th>unmasked_fraction</th><th>SIGMA_Z_BEST_COMB</th></tr></thead>\n",
       "<thead><tr><th></th><th></th><th>deg</th><th>deg</th><th></th><th></th><th>solMass / littleh</th><th>arcmin</th><th>arcmin2</th><th>arcmin2</th><th></th><th></th><th></th><th></th><th></th><th></th><th></th><th></th></tr></thead>\n",
       "<thead><tr><th>bytes22</th><th>int32</th><th>float64</th><th>float64</th><th>float64</th><th>bool</th><th>float64</th><th>float64</th><th>float64</th><th>float64</th><th>float64</th><th>float64</th><th>float64</th><th>float64</th><th>float64</th><th>object</th><th>float64</th><th>float64</th></tr></thead>\n",
       "<tr><td>eFEDS J093521.0+023234</td><td>82</td><td>143.83740358134753</td><td>2.542871690824143</td><td>0.50982</td><td>True</td><td>14.625807820724724</td><td>2.908020037930207</td><td>26.567129720257167</td><td>19.54</td><td>20.530053289565636</td><td>22.887668350894003</td><td>21.420511980895945</td><td>20.17115744085418</td><td>20.015064747400526</td><td>[   94653    94654   102047 ... 23753178 23760481 23760529]</td><td>0.7354953359941231</td><td>0.005174685772215613</td></tr>\n",
       "</table>"
      ],
      "text/plain": [
       "<Row index=0>\n",
       "         Name          ID_SRC      RA_CORR            DEC_CORR     Z_BEST_COMB low_cont_flag  median_500c_lcdm      r500c_lcdm           area        unmasked_area       i_cmag             g_cmag             r_cmag             z_cmag            y_cmag                               galaxy_index                        unmasked_fraction   SIGMA_Z_BEST_COMB  \n",
       "                                     deg                deg                                  solMass / littleh        arcmin           arcmin2          arcmin2                                                                                                                                                                                                     \n",
       "       bytes22         int32       float64            float64        float64        bool          float64            float64           float64          float64         float64            float64            float64            float64           float64                                  object                                float64             float64       \n",
       "---------------------- ------ ------------------ ----------------- ----------- ------------- ------------------ ----------------- ------------------ ------------- ------------------ ------------------ ------------------ ----------------- ------------------ ----------------------------------------------------------- ------------------ --------------------\n",
       "eFEDS J093521.0+023234     82 143.83740358134753 2.542871690824143     0.50982          True 14.625807820724724 2.908020037930207 26.567129720257167         19.54 20.530053289565636 22.887668350894003 21.420511980895945 20.17115744085418 20.015064747400526 [   94653    94654   102047 ... 23753178 23760481 23760529] 0.7354953359941231 0.005174685772215613"
      ]
     },
     "execution_count": 20,
     "metadata": {},
     "output_type": "execute_result"
    }
   ],
   "source": [
    "import copy\n",
    "new_efeds = copy.deepcopy(efeds)\n",
    "print(len(new_efeds))\n",
    "new_efeds.remove_rows([0, 1])\n",
    "new_efeds[0]"
   ]
  },
  {
   "cell_type": "code",
   "execution_count": 21,
   "metadata": {},
   "outputs": [
    {
     "name": "stderr",
     "output_type": "stream",
     "text": [
      "100%|██████████| 542/542 [10:07<00:00,  1.12s/it]\n"
     ]
    }
   ],
   "source": [
    "# Remove the cluster parts from hsc\n",
    "import mceh.find_luminosity as fl\n",
    "import copy\n",
    "\n",
    "clean_hsc = copy.deepcopy(hsc)\n",
    "clean_rd = copy.deepcopy(rd)\n",
    "\n",
    "for i in tqdm.tqdm(range(len(efeds))):\n",
    "    this_efeds = efeds[i]\n",
    "    hsc_in_index = fl.index_within_angular_radius(clean_hsc['ra'], \n",
    "                                                  clean_hsc['dec'], \n",
    "                                                  this_efeds['RA_CORR'], \n",
    "                                                  this_efeds['DEC_CORR'], \n",
    "                                                  this_efeds['r500c_lcdm'])\n",
    "    rd_in_index = fl.index_within_angular_radius(clean_rd['RA'], \n",
    "                                                 clean_rd['DEC'], \n",
    "                                                 this_efeds['RA_CORR'], \n",
    "                                                 this_efeds['DEC_CORR'], \n",
    "                                                 this_efeds['r500c_lcdm'])\n",
    "    clean_hsc.remove_rows(hsc_in_index)\n",
    "    clean_rd.remove_rows(rd_in_index)\n",
    "\n"
   ]
  },
  {
   "cell_type": "code",
   "execution_count": 22,
   "metadata": {},
   "outputs": [
    {
     "name": "stdout",
     "output_type": "stream",
     "text": [
      "24720393 24164183\n"
     ]
    }
   ],
   "source": [
    "print(len(hsc), len(clean_hsc))"
   ]
  },
  {
   "cell_type": "code",
   "execution_count": null,
   "metadata": {},
   "outputs": [
    {
     "data": {
      "text/plain": [
       "'\\nfor i in tqdm.tqdm(range(hsc_num)):\\n    for j in range(5):\\n        cen_value = mag_cmodel[j][correspond_index[i]]\\n        err_value = mag_err[j][correspond_index[i]]\\n        is_masked = mag_ismasked[j][correspond_index[i]]\\n        if is_masked:\\n            fake_mag_cmodel[j] = np.ma.append(fake_mag_cmodel[j], \\n                                              cen_value\\n                                              )\\n        else:\\n            value = np.random.normal(cen_value, err_value)\\n            if np.isnan(value):\\n                print(correspond_index[i], j)\\n            fake_mag_cmodel[j] = np.ma.append(fake_mag_cmodel[j], \\n                                              np.random.normal(cen_value,\\n                                                               err_value)\\n                                              )\\nfor mag_array in fake_mag_cmodel:\\n    mag_array.fill_value = np.nan\\n'"
      ]
     },
     "execution_count": 223,
     "metadata": {},
     "output_type": "execute_result"
    }
   ],
   "source": [
    "hsc_density = len(clean_hsc) / (len(clean_rd) / 100 * u.arcmin**2)\n",
    "hsc_num = int((hsc_density * calculate_area(low_ra, high_ra, low_dec, high_dec)\n",
    "               ).to(u.dimensionless_unscaled).value) # Number of fake galaxies\n",
    "np.random.seed(seed=20250112)\n",
    "fake_hsc = table.QTable()\n",
    "fake_hsc_ra = np.random.uniform(low = low_ra.value, high=high_ra.value, \n",
    "                                size=hsc_num) * u.deg\n",
    "fake_hsc['ra'] = fake_hsc_ra\n",
    "fake_hsc_dec = (np.arcsin(np.random.uniform(low=low_dec.to(u.rad).value, \n",
    "                                            high=high_dec.to(u.rad).value, \n",
    "                                            size=hsc_num)) \n",
    "          * u.rad).to(u.deg)\n",
    "fake_hsc['dec'] = fake_hsc_dec\n",
    "correspond_index = np.random.randint(len(clean_hsc), size=hsc_num)\n",
    "fake_hsc['correspond_index'] = correspond_index\n",
    "fake_hsc['object_id'] = hsc['object_id'][correspond_index]\n",
    "mag_cmodel = [clean_hsc['gmag_cmodel'], \n",
    "              clean_hsc['rmag_cmodel'], \n",
    "              clean_hsc['imag_cmodel'],\n",
    "              clean_hsc['zmag_cmodel'], \n",
    "              clean_hsc['ymag_cmodel']]\n",
    "mag_err = [clean_hsc['gmag_err'], \n",
    "           clean_hsc['rmag_err'], \n",
    "           clean_hsc['imag_err'], \n",
    "           clean_hsc['zmag_err'],\n",
    "           clean_hsc['ymag_err']]\n",
    "# zmag has no masked?\n",
    "fake_mag_cmodel = []\n",
    "for b in range(5):\n",
    "    this_mag = mag_cmodel[b][correspond_index]\n",
    "    this_err = mag_err[b][correspond_index]\n",
    "    fake_mag_cmodel.append(np.ma.masked_invalid(np.random.normal(this_mag, \n",
    "                                                                 this_err)))\n",
    "    fake_mag_cmodel[b].fill_value = np.nan"
   ]
  },
  {
   "cell_type": "code",
   "execution_count": 224,
   "metadata": {},
   "outputs": [],
   "source": [
    "original_hist = np.histogram(mag_cmodel[0], mceh.bins2)\n",
    "fake_hist = np.histogram(fake_mag_cmodel[0], mceh.bins2)"
   ]
  },
  {
   "cell_type": "code",
   "execution_count": null,
   "metadata": {},
   "outputs": [
    {
     "data": {
      "text/plain": [
       "<matplotlib.legend.Legend at 0x7f3b2cca44c0>"
      ]
     },
     "execution_count": 226,
     "metadata": {},
     "output_type": "execute_result"
    },
    {
     "data": {
      "image/png": "[encoded data removed]",
      "text/plain": [
       "<Figure size 640x480 with 1 Axes>"
      ]
     },
     "metadata": {},
     "output_type": "display_data"
    }
   ],
   "source": [
    "plt.stairs(original_hist[0] / len(clean_hsc), original_hist[1], label='original', alpha=0.7, fill=True)\n",
    "plt.stairs(fake_hist[0] / hsc_num, fake_hist[1], label='fake', alpha=0.7, color='red')\n",
    "plt.legend()"
   ]
  },
  {
   "cell_type": "code",
   "execution_count": 227,
   "metadata": {},
   "outputs": [],
   "source": [
    "mag_name = ['gmag_cmodel', 'rmag_cmodel', 'imag_cmodel', 'zmag_cmodel', 'ymag_cmodel']\n",
    "for i in range(5):\n",
    "    fake_hsc[mag_name[i]] = fake_mag_cmodel[i]"
   ]
  },
  {
   "cell_type": "code",
   "execution_count": 228,
   "metadata": {},
   "outputs": [
    {
     "data": {
      "text/plain": [
       "['ra',\n",
       " 'dec',\n",
       " 'correspond_index',\n",
       " 'object_id',\n",
       " 'gmag_cmodel',\n",
       " 'rmag_cmodel',\n",
       " 'imag_cmodel',\n",
       " 'zmag_cmodel',\n",
       " 'ymag_cmodel']"
      ]
     },
     "execution_count": 228,
     "metadata": {},
     "output_type": "execute_result"
    }
   ],
   "source": [
    "fake_hsc.colnames"
   ]
  },
  {
   "cell_type": "code",
   "execution_count": 229,
   "metadata": {},
   "outputs": [],
   "source": [
    "fake_hsc.write('data/fake_hsc_only_bkg.fits')"
   ]
  },
  {
   "cell_type": "code",
   "execution_count": null,
   "metadata": {},
   "outputs": [],
   "source": []
  }
 ],
 "metadata": {
  "kernelspec": {
   "display_name": "Python 3",
   "language": "python",
   "name": "python3"
  },
  "language_info": {
   "codemirror_mode": {
    "name": "ipython",
    "version": 3
   },
   "file_extension": ".py",
   "mimetype": "text/x-python",
   "name": "python",
   "nbconvert_exporter": "python",
   "pygments_lexer": "ipython3",
   "version": "3.9.19"
  }
 },
 "nbformat": 4,
 "nbformat_minor": 2
}
